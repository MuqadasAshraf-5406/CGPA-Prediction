{
  "cells": [
    {
      "cell_type": "markdown",
      "source": [
        "## Group Members:\n",
        "# Zobia Khan (CS-19063)\n",
        "# Muqadas Ashraf (CS-19053)\n"
      ],
      "metadata": {
        "id": "lJBdHd5zpkdz"
      },
      "id": "lJBdHd5zpkdz"
    },
    {
      "cell_type": "code",
      "execution_count": 147,
      "id": "de2f2b01",
      "metadata": {
        "id": "de2f2b01"
      },
      "outputs": [],
      "source": [
        "# Importing Libraries\n",
        "import pandas as pd\n",
        "import numpy as np"
      ]
    },
    {
      "cell_type": "markdown",
      "source": [
        ""
      ],
      "metadata": {
        "id": "5EWgJZWv8OeB"
      },
      "id": "5EWgJZWv8OeB"
    },
    {
      "cell_type": "code",
      "execution_count": 148,
      "id": "3fbc27e5",
      "metadata": {
        "colab": {
          "base_uri": "https://localhost:8080/",
          "height": 1000
        },
        "id": "3fbc27e5",
        "outputId": "2714d059-a228-4b25-f645-1065037078ef"
      },
      "outputs": [
        {
          "output_type": "stream",
          "name": "stdout",
          "text": [
            "<class 'pandas.core.frame.DataFrame'>\n",
            "RangeIndex: 571 entries, 0 to 570\n",
            "Data columns (total 43 columns):\n",
            " #   Column     Non-Null Count  Dtype  \n",
            "---  ------     --------------  -----  \n",
            " 0   Seat No.   571 non-null    object \n",
            " 1   PH-121     571 non-null    object \n",
            " 2   HS-101     571 non-null    object \n",
            " 3   CY-105     570 non-null    object \n",
            " 4   HS-105/12  570 non-null    object \n",
            " 5   MT-111     569 non-null    object \n",
            " 6   CS-105     571 non-null    object \n",
            " 7   CS-106     569 non-null    object \n",
            " 8   EL-102     569 non-null    object \n",
            " 9   EE-119     569 non-null    object \n",
            " 10  ME-107     569 non-null    object \n",
            " 11  CS-107     569 non-null    object \n",
            " 12  HS-205/20  566 non-null    object \n",
            " 13  MT-222     566 non-null    object \n",
            " 14  EE-222     564 non-null    object \n",
            " 15  MT-224     564 non-null    object \n",
            " 16  CS-210     564 non-null    object \n",
            " 17  CS-211     566 non-null    object \n",
            " 18  CS-203     566 non-null    object \n",
            " 19  CS-214     565 non-null    object \n",
            " 20  EE-217     565 non-null    object \n",
            " 21  CS-212     565 non-null    object \n",
            " 22  CS-215     565 non-null    object \n",
            " 23  MT-331     562 non-null    object \n",
            " 24  EF-303     561 non-null    object \n",
            " 25  HS-304     561 non-null    object \n",
            " 26  CS-301     561 non-null    object \n",
            " 27  CS-302     561 non-null    object \n",
            " 28  TC-383     561 non-null    object \n",
            " 29  MT-442     561 non-null    object \n",
            " 30  EL-332     562 non-null    object \n",
            " 31  CS-318     562 non-null    object \n",
            " 32  CS-306     562 non-null    object \n",
            " 33  CS-312     561 non-null    object \n",
            " 34  CS-317     559 non-null    object \n",
            " 35  CS-403     559 non-null    object \n",
            " 36  CS-421     559 non-null    object \n",
            " 37  CS-406     486 non-null    object \n",
            " 38  CS-414     558 non-null    object \n",
            " 39  CS-419     558 non-null    object \n",
            " 40  CS-423     557 non-null    object \n",
            " 41  CS-412     492 non-null    object \n",
            " 42  CGPA       571 non-null    float64\n",
            "dtypes: float64(1), object(42)\n",
            "memory usage: 191.9+ KB\n"
          ]
        },
        {
          "output_type": "execute_result",
          "data": {
            "text/plain": [
              "   Seat No. PH-121 HS-101 CY-105 HS-105/12 MT-111 CS-105 CS-106 EL-102 EE-119  \\\n",
              "0  CS-97001     B-     D+     C-         C     C-     D+      D     C-     B-   \n",
              "1  CS-97002      A      D     D+         D     B-      C      D      A     D+   \n",
              "2  CS-97003      A      B      A        B-     B+      A     B-     B+     A-   \n",
              "3  CS-97004      D     C+     D+         D      D     A-     D+     C-      D   \n",
              "4  CS-97005     A-     A-     A-        B+      A      A     A-     B+      A   \n",
              "\n",
              "   ... CS-312 CS-317 CS-403 CS-421 CS-406 CS-414 CS-419 CS-423 CS-412   CGPA  \n",
              "0  ...     C-     C-     C-     C-     A-      A     C-      B     A-  2.205  \n",
              "1  ...     D+      D      C      D     A-     B-      C      C      B  2.008  \n",
              "2  ...      B      B      A      C      A      A      A     A-      A  3.608  \n",
              "3  ...     D+      C     D+     C-     B-      B     C+     C+     C+  1.906  \n",
              "4  ...     B-     B+     B+     B-     A-      A     A-     A-      A  3.448  \n",
              "\n",
              "[5 rows x 43 columns]"
            ],
            "text/html": [
              "\n",
              "  <div id=\"df-fa983ed0-0a8e-41c0-8ceb-887f5ecfc9ca\">\n",
              "    <div class=\"colab-df-container\">\n",
              "      <div>\n",
              "<style scoped>\n",
              "    .dataframe tbody tr th:only-of-type {\n",
              "        vertical-align: middle;\n",
              "    }\n",
              "\n",
              "    .dataframe tbody tr th {\n",
              "        vertical-align: top;\n",
              "    }\n",
              "\n",
              "    .dataframe thead th {\n",
              "        text-align: right;\n",
              "    }\n",
              "</style>\n",
              "<table border=\"1\" class=\"dataframe\">\n",
              "  <thead>\n",
              "    <tr style=\"text-align: right;\">\n",
              "      <th></th>\n",
              "      <th>Seat No.</th>\n",
              "      <th>PH-121</th>\n",
              "      <th>HS-101</th>\n",
              "      <th>CY-105</th>\n",
              "      <th>HS-105/12</th>\n",
              "      <th>MT-111</th>\n",
              "      <th>CS-105</th>\n",
              "      <th>CS-106</th>\n",
              "      <th>EL-102</th>\n",
              "      <th>EE-119</th>\n",
              "      <th>...</th>\n",
              "      <th>CS-312</th>\n",
              "      <th>CS-317</th>\n",
              "      <th>CS-403</th>\n",
              "      <th>CS-421</th>\n",
              "      <th>CS-406</th>\n",
              "      <th>CS-414</th>\n",
              "      <th>CS-419</th>\n",
              "      <th>CS-423</th>\n",
              "      <th>CS-412</th>\n",
              "      <th>CGPA</th>\n",
              "    </tr>\n",
              "  </thead>\n",
              "  <tbody>\n",
              "    <tr>\n",
              "      <th>0</th>\n",
              "      <td>CS-97001</td>\n",
              "      <td>B-</td>\n",
              "      <td>D+</td>\n",
              "      <td>C-</td>\n",
              "      <td>C</td>\n",
              "      <td>C-</td>\n",
              "      <td>D+</td>\n",
              "      <td>D</td>\n",
              "      <td>C-</td>\n",
              "      <td>B-</td>\n",
              "      <td>...</td>\n",
              "      <td>C-</td>\n",
              "      <td>C-</td>\n",
              "      <td>C-</td>\n",
              "      <td>C-</td>\n",
              "      <td>A-</td>\n",
              "      <td>A</td>\n",
              "      <td>C-</td>\n",
              "      <td>B</td>\n",
              "      <td>A-</td>\n",
              "      <td>2.205</td>\n",
              "    </tr>\n",
              "    <tr>\n",
              "      <th>1</th>\n",
              "      <td>CS-97002</td>\n",
              "      <td>A</td>\n",
              "      <td>D</td>\n",
              "      <td>D+</td>\n",
              "      <td>D</td>\n",
              "      <td>B-</td>\n",
              "      <td>C</td>\n",
              "      <td>D</td>\n",
              "      <td>A</td>\n",
              "      <td>D+</td>\n",
              "      <td>...</td>\n",
              "      <td>D+</td>\n",
              "      <td>D</td>\n",
              "      <td>C</td>\n",
              "      <td>D</td>\n",
              "      <td>A-</td>\n",
              "      <td>B-</td>\n",
              "      <td>C</td>\n",
              "      <td>C</td>\n",
              "      <td>B</td>\n",
              "      <td>2.008</td>\n",
              "    </tr>\n",
              "    <tr>\n",
              "      <th>2</th>\n",
              "      <td>CS-97003</td>\n",
              "      <td>A</td>\n",
              "      <td>B</td>\n",
              "      <td>A</td>\n",
              "      <td>B-</td>\n",
              "      <td>B+</td>\n",
              "      <td>A</td>\n",
              "      <td>B-</td>\n",
              "      <td>B+</td>\n",
              "      <td>A-</td>\n",
              "      <td>...</td>\n",
              "      <td>B</td>\n",
              "      <td>B</td>\n",
              "      <td>A</td>\n",
              "      <td>C</td>\n",
              "      <td>A</td>\n",
              "      <td>A</td>\n",
              "      <td>A</td>\n",
              "      <td>A-</td>\n",
              "      <td>A</td>\n",
              "      <td>3.608</td>\n",
              "    </tr>\n",
              "    <tr>\n",
              "      <th>3</th>\n",
              "      <td>CS-97004</td>\n",
              "      <td>D</td>\n",
              "      <td>C+</td>\n",
              "      <td>D+</td>\n",
              "      <td>D</td>\n",
              "      <td>D</td>\n",
              "      <td>A-</td>\n",
              "      <td>D+</td>\n",
              "      <td>C-</td>\n",
              "      <td>D</td>\n",
              "      <td>...</td>\n",
              "      <td>D+</td>\n",
              "      <td>C</td>\n",
              "      <td>D+</td>\n",
              "      <td>C-</td>\n",
              "      <td>B-</td>\n",
              "      <td>B</td>\n",
              "      <td>C+</td>\n",
              "      <td>C+</td>\n",
              "      <td>C+</td>\n",
              "      <td>1.906</td>\n",
              "    </tr>\n",
              "    <tr>\n",
              "      <th>4</th>\n",
              "      <td>CS-97005</td>\n",
              "      <td>A-</td>\n",
              "      <td>A-</td>\n",
              "      <td>A-</td>\n",
              "      <td>B+</td>\n",
              "      <td>A</td>\n",
              "      <td>A</td>\n",
              "      <td>A-</td>\n",
              "      <td>B+</td>\n",
              "      <td>A</td>\n",
              "      <td>...</td>\n",
              "      <td>B-</td>\n",
              "      <td>B+</td>\n",
              "      <td>B+</td>\n",
              "      <td>B-</td>\n",
              "      <td>A-</td>\n",
              "      <td>A</td>\n",
              "      <td>A-</td>\n",
              "      <td>A-</td>\n",
              "      <td>A</td>\n",
              "      <td>3.448</td>\n",
              "    </tr>\n",
              "  </tbody>\n",
              "</table>\n",
              "<p>5 rows × 43 columns</p>\n",
              "</div>\n",
              "      <button class=\"colab-df-convert\" onclick=\"convertToInteractive('df-fa983ed0-0a8e-41c0-8ceb-887f5ecfc9ca')\"\n",
              "              title=\"Convert this dataframe to an interactive table.\"\n",
              "              style=\"display:none;\">\n",
              "        \n",
              "  <svg xmlns=\"http://www.w3.org/2000/svg\" height=\"24px\"viewBox=\"0 0 24 24\"\n",
              "       width=\"24px\">\n",
              "    <path d=\"M0 0h24v24H0V0z\" fill=\"none\"/>\n",
              "    <path d=\"M18.56 5.44l.94 2.06.94-2.06 2.06-.94-2.06-.94-.94-2.06-.94 2.06-2.06.94zm-11 1L8.5 8.5l.94-2.06 2.06-.94-2.06-.94L8.5 2.5l-.94 2.06-2.06.94zm10 10l.94 2.06.94-2.06 2.06-.94-2.06-.94-.94-2.06-.94 2.06-2.06.94z\"/><path d=\"M17.41 7.96l-1.37-1.37c-.4-.4-.92-.59-1.43-.59-.52 0-1.04.2-1.43.59L10.3 9.45l-7.72 7.72c-.78.78-.78 2.05 0 2.83L4 21.41c.39.39.9.59 1.41.59.51 0 1.02-.2 1.41-.59l7.78-7.78 2.81-2.81c.8-.78.8-2.07 0-2.86zM5.41 20L4 18.59l7.72-7.72 1.47 1.35L5.41 20z\"/>\n",
              "  </svg>\n",
              "      </button>\n",
              "      \n",
              "  <style>\n",
              "    .colab-df-container {\n",
              "      display:flex;\n",
              "      flex-wrap:wrap;\n",
              "      gap: 12px;\n",
              "    }\n",
              "\n",
              "    .colab-df-convert {\n",
              "      background-color: #E8F0FE;\n",
              "      border: none;\n",
              "      border-radius: 50%;\n",
              "      cursor: pointer;\n",
              "      display: none;\n",
              "      fill: #1967D2;\n",
              "      height: 32px;\n",
              "      padding: 0 0 0 0;\n",
              "      width: 32px;\n",
              "    }\n",
              "\n",
              "    .colab-df-convert:hover {\n",
              "      background-color: #E2EBFA;\n",
              "      box-shadow: 0px 1px 2px rgba(60, 64, 67, 0.3), 0px 1px 3px 1px rgba(60, 64, 67, 0.15);\n",
              "      fill: #174EA6;\n",
              "    }\n",
              "\n",
              "    [theme=dark] .colab-df-convert {\n",
              "      background-color: #3B4455;\n",
              "      fill: #D2E3FC;\n",
              "    }\n",
              "\n",
              "    [theme=dark] .colab-df-convert:hover {\n",
              "      background-color: #434B5C;\n",
              "      box-shadow: 0px 1px 3px 1px rgba(0, 0, 0, 0.15);\n",
              "      filter: drop-shadow(0px 1px 2px rgba(0, 0, 0, 0.3));\n",
              "      fill: #FFFFFF;\n",
              "    }\n",
              "  </style>\n",
              "\n",
              "      <script>\n",
              "        const buttonEl =\n",
              "          document.querySelector('#df-fa983ed0-0a8e-41c0-8ceb-887f5ecfc9ca button.colab-df-convert');\n",
              "        buttonEl.style.display =\n",
              "          google.colab.kernel.accessAllowed ? 'block' : 'none';\n",
              "\n",
              "        async function convertToInteractive(key) {\n",
              "          const element = document.querySelector('#df-fa983ed0-0a8e-41c0-8ceb-887f5ecfc9ca');\n",
              "          const dataTable =\n",
              "            await google.colab.kernel.invokeFunction('convertToInteractive',\n",
              "                                                     [key], {});\n",
              "          if (!dataTable) return;\n",
              "\n",
              "          const docLinkHtml = 'Like what you see? Visit the ' +\n",
              "            '<a target=\"_blank\" href=https://colab.research.google.com/notebooks/data_table.ipynb>data table notebook</a>'\n",
              "            + ' to learn more about interactive tables.';\n",
              "          element.innerHTML = '';\n",
              "          dataTable['output_type'] = 'display_data';\n",
              "          await google.colab.output.renderOutput(dataTable, element);\n",
              "          const docLink = document.createElement('div');\n",
              "          docLink.innerHTML = docLinkHtml;\n",
              "          element.appendChild(docLink);\n",
              "        }\n",
              "      </script>\n",
              "    </div>\n",
              "  </div>\n",
              "  "
            ]
          },
          "metadata": {},
          "execution_count": 148
        }
      ],
      "source": [
        "# Reading dataset\n",
        "dataset=pd.read_csv(\"The_Grades_Dataset.csv\")\n",
        "dataset.describe()\n",
        "dataset.info()\n",
        "dataset.head()"
      ]
    },
    {
      "cell_type": "code",
      "execution_count": 149,
      "id": "96dc1206",
      "metadata": {
        "colab": {
          "base_uri": "https://localhost:8080/"
        },
        "id": "96dc1206",
        "outputId": "5c97ae81-b1ec-4a75-9f6a-aa76b541db06"
      },
      "outputs": [
        {
          "output_type": "execute_result",
          "data": {
            "text/plain": [
              "0    2.205\n",
              "1    2.008\n",
              "2    3.608\n",
              "3    1.906\n",
              "4    3.448\n",
              "Name: CGPA, dtype: float64"
            ]
          },
          "metadata": {},
          "execution_count": 149
        }
      ],
      "source": [
        "# Saving target feature in output variable\n",
        "output=dataset.CGPA\n",
        "output.head()"
      ]
    },
    {
      "cell_type": "code",
      "execution_count": 150,
      "id": "70e0719a",
      "metadata": {
        "colab": {
          "base_uri": "https://localhost:8080/"
        },
        "id": "70e0719a",
        "outputId": "7f884896-3f21-45ea-8760-e43167d4067e"
      },
      "outputs": [
        {
          "output_type": "stream",
          "name": "stdout",
          "text": [
            "<class 'pandas.core.frame.DataFrame'>\n",
            "RangeIndex: 571 entries, 0 to 570\n",
            "Data columns (total 41 columns):\n",
            " #   Column     Non-Null Count  Dtype \n",
            "---  ------     --------------  ----- \n",
            " 0   PH-121     571 non-null    object\n",
            " 1   HS-101     571 non-null    object\n",
            " 2   CY-105     570 non-null    object\n",
            " 3   HS-105/12  570 non-null    object\n",
            " 4   MT-111     569 non-null    object\n",
            " 5   CS-105     571 non-null    object\n",
            " 6   CS-106     569 non-null    object\n",
            " 7   EL-102     569 non-null    object\n",
            " 8   EE-119     569 non-null    object\n",
            " 9   ME-107     569 non-null    object\n",
            " 10  CS-107     569 non-null    object\n",
            " 11  HS-205/20  566 non-null    object\n",
            " 12  MT-222     566 non-null    object\n",
            " 13  EE-222     564 non-null    object\n",
            " 14  MT-224     564 non-null    object\n",
            " 15  CS-210     564 non-null    object\n",
            " 16  CS-211     566 non-null    object\n",
            " 17  CS-203     566 non-null    object\n",
            " 18  CS-214     565 non-null    object\n",
            " 19  EE-217     565 non-null    object\n",
            " 20  CS-212     565 non-null    object\n",
            " 21  CS-215     565 non-null    object\n",
            " 22  MT-331     562 non-null    object\n",
            " 23  EF-303     561 non-null    object\n",
            " 24  HS-304     561 non-null    object\n",
            " 25  CS-301     561 non-null    object\n",
            " 26  CS-302     561 non-null    object\n",
            " 27  TC-383     561 non-null    object\n",
            " 28  MT-442     561 non-null    object\n",
            " 29  EL-332     562 non-null    object\n",
            " 30  CS-318     562 non-null    object\n",
            " 31  CS-306     562 non-null    object\n",
            " 32  CS-312     561 non-null    object\n",
            " 33  CS-317     559 non-null    object\n",
            " 34  CS-403     559 non-null    object\n",
            " 35  CS-421     559 non-null    object\n",
            " 36  CS-406     486 non-null    object\n",
            " 37  CS-414     558 non-null    object\n",
            " 38  CS-419     558 non-null    object\n",
            " 39  CS-423     557 non-null    object\n",
            " 40  CS-412     492 non-null    object\n",
            "dtypes: object(41)\n",
            "memory usage: 183.0+ KB\n"
          ]
        }
      ],
      "source": [
        "# Droping those features which perform no role in target computation\n",
        "courses=dataset.drop(['CGPA','Seat No.'],axis=\"columns\")\n",
        "courses.info()"
      ]
    },
    {
      "cell_type": "code",
      "execution_count": 151,
      "id": "2700e297",
      "metadata": {
        "id": "2700e297"
      },
      "outputs": [],
      "source": [
        "AssignGPs={\n",
        "    \"A+\": 4.0,\n",
        "    \"A\": 4.0,\n",
        "    \"A-\" : 3.7,\n",
        "    \"B+\" : 3.4,\n",
        "    \"B\" : 3.0,\n",
        "    \"B-\" : 2.7,\n",
        "    \"C+\" : 2.4,\n",
        "    \"C\" : 2.0,\n",
        "    \"C-\" : 1.7,\n",
        "    \"D+\" : 1.4,\n",
        "    \"D\" : 1.0,\n",
        "    \"F\" : 0.0,\n",
        "    \"WU\" :0\n",
        "}"
      ]
    },
    {
      "cell_type": "code",
      "execution_count": 152,
      "id": "f73671cf",
      "metadata": {
        "scrolled": true,
        "colab": {
          "base_uri": "https://localhost:8080/",
          "height": 300
        },
        "id": "f73671cf",
        "outputId": "fa07a59c-6663-4247-ebff-1c6652b5a8bf"
      },
      "outputs": [
        {
          "output_type": "execute_result",
          "data": {
            "text/plain": [
              "   PH-121  HS-101  CY-105  HS-105/12  MT-111  CS-105  CS-106  EL-102  EE-119  \\\n",
              "0     2.7     1.4     1.7        2.0     1.7     1.4     1.0     1.7     2.7   \n",
              "1     4.0     1.0     1.4        1.0     2.7     2.0     1.0     4.0     1.4   \n",
              "2     4.0     3.0     4.0        2.7     3.4     4.0     2.7     3.4     3.7   \n",
              "3     1.0     2.4     1.4        1.0     1.0     3.7     1.4     1.7     1.0   \n",
              "4     3.7     3.7     3.7        3.4     4.0     4.0     3.7     3.4     4.0   \n",
              "\n",
              "   ME-107  ...  CS-306  CS-312  CS-317  CS-403  CS-421  CS-406  CS-414  \\\n",
              "0     1.7  ...     2.0     1.7     1.7     1.7     1.7     3.7     4.0   \n",
              "1     1.0  ...     1.0     1.4     1.0     2.0     1.0     3.7     2.7   \n",
              "2     3.7  ...     3.7     3.0     3.0     4.0     2.0     4.0     4.0   \n",
              "3     2.4  ...     1.7     1.4     2.0     1.4     1.7     2.7     3.0   \n",
              "4     3.7  ...     3.7     2.7     3.4     3.4     2.7     3.7     4.0   \n",
              "\n",
              "   CS-419  CS-423  CS-412  \n",
              "0     1.7     3.0     3.7  \n",
              "1     2.0     2.0     3.0  \n",
              "2     4.0     3.7     4.0  \n",
              "3     2.4     2.4     2.4  \n",
              "4     3.7     3.7     4.0  \n",
              "\n",
              "[5 rows x 41 columns]"
            ],
            "text/html": [
              "\n",
              "  <div id=\"df-e95b9315-8cda-463a-a987-864f422993cb\">\n",
              "    <div class=\"colab-df-container\">\n",
              "      <div>\n",
              "<style scoped>\n",
              "    .dataframe tbody tr th:only-of-type {\n",
              "        vertical-align: middle;\n",
              "    }\n",
              "\n",
              "    .dataframe tbody tr th {\n",
              "        vertical-align: top;\n",
              "    }\n",
              "\n",
              "    .dataframe thead th {\n",
              "        text-align: right;\n",
              "    }\n",
              "</style>\n",
              "<table border=\"1\" class=\"dataframe\">\n",
              "  <thead>\n",
              "    <tr style=\"text-align: right;\">\n",
              "      <th></th>\n",
              "      <th>PH-121</th>\n",
              "      <th>HS-101</th>\n",
              "      <th>CY-105</th>\n",
              "      <th>HS-105/12</th>\n",
              "      <th>MT-111</th>\n",
              "      <th>CS-105</th>\n",
              "      <th>CS-106</th>\n",
              "      <th>EL-102</th>\n",
              "      <th>EE-119</th>\n",
              "      <th>ME-107</th>\n",
              "      <th>...</th>\n",
              "      <th>CS-306</th>\n",
              "      <th>CS-312</th>\n",
              "      <th>CS-317</th>\n",
              "      <th>CS-403</th>\n",
              "      <th>CS-421</th>\n",
              "      <th>CS-406</th>\n",
              "      <th>CS-414</th>\n",
              "      <th>CS-419</th>\n",
              "      <th>CS-423</th>\n",
              "      <th>CS-412</th>\n",
              "    </tr>\n",
              "  </thead>\n",
              "  <tbody>\n",
              "    <tr>\n",
              "      <th>0</th>\n",
              "      <td>2.7</td>\n",
              "      <td>1.4</td>\n",
              "      <td>1.7</td>\n",
              "      <td>2.0</td>\n",
              "      <td>1.7</td>\n",
              "      <td>1.4</td>\n",
              "      <td>1.0</td>\n",
              "      <td>1.7</td>\n",
              "      <td>2.7</td>\n",
              "      <td>1.7</td>\n",
              "      <td>...</td>\n",
              "      <td>2.0</td>\n",
              "      <td>1.7</td>\n",
              "      <td>1.7</td>\n",
              "      <td>1.7</td>\n",
              "      <td>1.7</td>\n",
              "      <td>3.7</td>\n",
              "      <td>4.0</td>\n",
              "      <td>1.7</td>\n",
              "      <td>3.0</td>\n",
              "      <td>3.7</td>\n",
              "    </tr>\n",
              "    <tr>\n",
              "      <th>1</th>\n",
              "      <td>4.0</td>\n",
              "      <td>1.0</td>\n",
              "      <td>1.4</td>\n",
              "      <td>1.0</td>\n",
              "      <td>2.7</td>\n",
              "      <td>2.0</td>\n",
              "      <td>1.0</td>\n",
              "      <td>4.0</td>\n",
              "      <td>1.4</td>\n",
              "      <td>1.0</td>\n",
              "      <td>...</td>\n",
              "      <td>1.0</td>\n",
              "      <td>1.4</td>\n",
              "      <td>1.0</td>\n",
              "      <td>2.0</td>\n",
              "      <td>1.0</td>\n",
              "      <td>3.7</td>\n",
              "      <td>2.7</td>\n",
              "      <td>2.0</td>\n",
              "      <td>2.0</td>\n",
              "      <td>3.0</td>\n",
              "    </tr>\n",
              "    <tr>\n",
              "      <th>2</th>\n",
              "      <td>4.0</td>\n",
              "      <td>3.0</td>\n",
              "      <td>4.0</td>\n",
              "      <td>2.7</td>\n",
              "      <td>3.4</td>\n",
              "      <td>4.0</td>\n",
              "      <td>2.7</td>\n",
              "      <td>3.4</td>\n",
              "      <td>3.7</td>\n",
              "      <td>3.7</td>\n",
              "      <td>...</td>\n",
              "      <td>3.7</td>\n",
              "      <td>3.0</td>\n",
              "      <td>3.0</td>\n",
              "      <td>4.0</td>\n",
              "      <td>2.0</td>\n",
              "      <td>4.0</td>\n",
              "      <td>4.0</td>\n",
              "      <td>4.0</td>\n",
              "      <td>3.7</td>\n",
              "      <td>4.0</td>\n",
              "    </tr>\n",
              "    <tr>\n",
              "      <th>3</th>\n",
              "      <td>1.0</td>\n",
              "      <td>2.4</td>\n",
              "      <td>1.4</td>\n",
              "      <td>1.0</td>\n",
              "      <td>1.0</td>\n",
              "      <td>3.7</td>\n",
              "      <td>1.4</td>\n",
              "      <td>1.7</td>\n",
              "      <td>1.0</td>\n",
              "      <td>2.4</td>\n",
              "      <td>...</td>\n",
              "      <td>1.7</td>\n",
              "      <td>1.4</td>\n",
              "      <td>2.0</td>\n",
              "      <td>1.4</td>\n",
              "      <td>1.7</td>\n",
              "      <td>2.7</td>\n",
              "      <td>3.0</td>\n",
              "      <td>2.4</td>\n",
              "      <td>2.4</td>\n",
              "      <td>2.4</td>\n",
              "    </tr>\n",
              "    <tr>\n",
              "      <th>4</th>\n",
              "      <td>3.7</td>\n",
              "      <td>3.7</td>\n",
              "      <td>3.7</td>\n",
              "      <td>3.4</td>\n",
              "      <td>4.0</td>\n",
              "      <td>4.0</td>\n",
              "      <td>3.7</td>\n",
              "      <td>3.4</td>\n",
              "      <td>4.0</td>\n",
              "      <td>3.7</td>\n",
              "      <td>...</td>\n",
              "      <td>3.7</td>\n",
              "      <td>2.7</td>\n",
              "      <td>3.4</td>\n",
              "      <td>3.4</td>\n",
              "      <td>2.7</td>\n",
              "      <td>3.7</td>\n",
              "      <td>4.0</td>\n",
              "      <td>3.7</td>\n",
              "      <td>3.7</td>\n",
              "      <td>4.0</td>\n",
              "    </tr>\n",
              "  </tbody>\n",
              "</table>\n",
              "<p>5 rows × 41 columns</p>\n",
              "</div>\n",
              "      <button class=\"colab-df-convert\" onclick=\"convertToInteractive('df-e95b9315-8cda-463a-a987-864f422993cb')\"\n",
              "              title=\"Convert this dataframe to an interactive table.\"\n",
              "              style=\"display:none;\">\n",
              "        \n",
              "  <svg xmlns=\"http://www.w3.org/2000/svg\" height=\"24px\"viewBox=\"0 0 24 24\"\n",
              "       width=\"24px\">\n",
              "    <path d=\"M0 0h24v24H0V0z\" fill=\"none\"/>\n",
              "    <path d=\"M18.56 5.44l.94 2.06.94-2.06 2.06-.94-2.06-.94-.94-2.06-.94 2.06-2.06.94zm-11 1L8.5 8.5l.94-2.06 2.06-.94-2.06-.94L8.5 2.5l-.94 2.06-2.06.94zm10 10l.94 2.06.94-2.06 2.06-.94-2.06-.94-.94-2.06-.94 2.06-2.06.94z\"/><path d=\"M17.41 7.96l-1.37-1.37c-.4-.4-.92-.59-1.43-.59-.52 0-1.04.2-1.43.59L10.3 9.45l-7.72 7.72c-.78.78-.78 2.05 0 2.83L4 21.41c.39.39.9.59 1.41.59.51 0 1.02-.2 1.41-.59l7.78-7.78 2.81-2.81c.8-.78.8-2.07 0-2.86zM5.41 20L4 18.59l7.72-7.72 1.47 1.35L5.41 20z\"/>\n",
              "  </svg>\n",
              "      </button>\n",
              "      \n",
              "  <style>\n",
              "    .colab-df-container {\n",
              "      display:flex;\n",
              "      flex-wrap:wrap;\n",
              "      gap: 12px;\n",
              "    }\n",
              "\n",
              "    .colab-df-convert {\n",
              "      background-color: #E8F0FE;\n",
              "      border: none;\n",
              "      border-radius: 50%;\n",
              "      cursor: pointer;\n",
              "      display: none;\n",
              "      fill: #1967D2;\n",
              "      height: 32px;\n",
              "      padding: 0 0 0 0;\n",
              "      width: 32px;\n",
              "    }\n",
              "\n",
              "    .colab-df-convert:hover {\n",
              "      background-color: #E2EBFA;\n",
              "      box-shadow: 0px 1px 2px rgba(60, 64, 67, 0.3), 0px 1px 3px 1px rgba(60, 64, 67, 0.15);\n",
              "      fill: #174EA6;\n",
              "    }\n",
              "\n",
              "    [theme=dark] .colab-df-convert {\n",
              "      background-color: #3B4455;\n",
              "      fill: #D2E3FC;\n",
              "    }\n",
              "\n",
              "    [theme=dark] .colab-df-convert:hover {\n",
              "      background-color: #434B5C;\n",
              "      box-shadow: 0px 1px 3px 1px rgba(0, 0, 0, 0.15);\n",
              "      filter: drop-shadow(0px 1px 2px rgba(0, 0, 0, 0.3));\n",
              "      fill: #FFFFFF;\n",
              "    }\n",
              "  </style>\n",
              "\n",
              "      <script>\n",
              "        const buttonEl =\n",
              "          document.querySelector('#df-e95b9315-8cda-463a-a987-864f422993cb button.colab-df-convert');\n",
              "        buttonEl.style.display =\n",
              "          google.colab.kernel.accessAllowed ? 'block' : 'none';\n",
              "\n",
              "        async function convertToInteractive(key) {\n",
              "          const element = document.querySelector('#df-e95b9315-8cda-463a-a987-864f422993cb');\n",
              "          const dataTable =\n",
              "            await google.colab.kernel.invokeFunction('convertToInteractive',\n",
              "                                                     [key], {});\n",
              "          if (!dataTable) return;\n",
              "\n",
              "          const docLinkHtml = 'Like what you see? Visit the ' +\n",
              "            '<a target=\"_blank\" href=https://colab.research.google.com/notebooks/data_table.ipynb>data table notebook</a>'\n",
              "            + ' to learn more about interactive tables.';\n",
              "          element.innerHTML = '';\n",
              "          dataTable['output_type'] = 'display_data';\n",
              "          await google.colab.output.renderOutput(dataTable, element);\n",
              "          const docLink = document.createElement('div');\n",
              "          docLink.innerHTML = docLinkHtml;\n",
              "          element.appendChild(docLink);\n",
              "        }\n",
              "      </script>\n",
              "    </div>\n",
              "  </div>\n",
              "  "
            ]
          },
          "metadata": {},
          "execution_count": 152
        }
      ],
      "source": [
        "# Making string values integer by assigning GPs to grades\n",
        "for i in courses:\n",
        "    courses[i]=courses[i].map(AssignGPs)\n",
        "courses.head()"
      ]
    },
    {
      "cell_type": "code",
      "execution_count": 153,
      "id": "1f5c670a",
      "metadata": {
        "colab": {
          "base_uri": "https://localhost:8080/"
        },
        "id": "1f5c670a",
        "outputId": "08ad6a6a-7904-441a-fe67-0550eb25484f"
      },
      "outputs": [
        {
          "output_type": "execute_result",
          "data": {
            "text/plain": [
              "Index(['CY-105', 'HS-105/12', 'MT-111', 'CS-106', 'EL-102', 'EE-119', 'ME-107',\n",
              "       'CS-107', 'HS-205/20', 'MT-222', 'EE-222', 'MT-224', 'CS-210', 'CS-211',\n",
              "       'CS-203', 'CS-214', 'EE-217', 'CS-212', 'CS-215', 'MT-331', 'EF-303',\n",
              "       'HS-304', 'CS-301', 'CS-302', 'TC-383', 'MT-442', 'EL-332', 'CS-318',\n",
              "       'CS-306', 'CS-312', 'CS-317', 'CS-403', 'CS-421', 'CS-406', 'CS-414',\n",
              "       'CS-419', 'CS-423', 'CS-412'],\n",
              "      dtype='object')"
            ]
          },
          "metadata": {},
          "execution_count": 153
        }
      ],
      "source": [
        "# Checking null values\n",
        "courses.columns[courses.isna().any()]"
      ]
    },
    {
      "cell_type": "code",
      "execution_count": 154,
      "id": "626c41d8",
      "metadata": {
        "id": "626c41d8"
      },
      "outputs": [],
      "source": [
        "# Filling 0 to null values\n",
        "courses[0:]=courses[0:].fillna(0)"
      ]
    },
    {
      "cell_type": "code",
      "execution_count": 155,
      "id": "7f63fbe0",
      "metadata": {
        "colab": {
          "base_uri": "https://localhost:8080/"
        },
        "id": "7f63fbe0",
        "outputId": "cf45e716-86f1-4b83-ec4a-c53498f8f26b"
      },
      "outputs": [
        {
          "output_type": "stream",
          "name": "stdout",
          "text": [
            "<class 'pandas.core.frame.DataFrame'>\n",
            "RangeIndex: 571 entries, 0 to 570\n",
            "Data columns (total 41 columns):\n",
            " #   Column     Non-Null Count  Dtype  \n",
            "---  ------     --------------  -----  \n",
            " 0   PH-121     571 non-null    float64\n",
            " 1   HS-101     571 non-null    float64\n",
            " 2   CY-105     571 non-null    float64\n",
            " 3   HS-105/12  571 non-null    float64\n",
            " 4   MT-111     571 non-null    float64\n",
            " 5   CS-105     571 non-null    float64\n",
            " 6   CS-106     571 non-null    float64\n",
            " 7   EL-102     571 non-null    float64\n",
            " 8   EE-119     571 non-null    float64\n",
            " 9   ME-107     571 non-null    float64\n",
            " 10  CS-107     571 non-null    float64\n",
            " 11  HS-205/20  571 non-null    float64\n",
            " 12  MT-222     571 non-null    float64\n",
            " 13  EE-222     571 non-null    float64\n",
            " 14  MT-224     571 non-null    float64\n",
            " 15  CS-210     571 non-null    float64\n",
            " 16  CS-211     571 non-null    float64\n",
            " 17  CS-203     571 non-null    float64\n",
            " 18  CS-214     571 non-null    float64\n",
            " 19  EE-217     571 non-null    float64\n",
            " 20  CS-212     571 non-null    float64\n",
            " 21  CS-215     571 non-null    float64\n",
            " 22  MT-331     571 non-null    float64\n",
            " 23  EF-303     571 non-null    float64\n",
            " 24  HS-304     571 non-null    float64\n",
            " 25  CS-301     571 non-null    float64\n",
            " 26  CS-302     571 non-null    float64\n",
            " 27  TC-383     571 non-null    float64\n",
            " 28  MT-442     571 non-null    float64\n",
            " 29  EL-332     571 non-null    float64\n",
            " 30  CS-318     571 non-null    float64\n",
            " 31  CS-306     571 non-null    float64\n",
            " 32  CS-312     571 non-null    float64\n",
            " 33  CS-317     571 non-null    float64\n",
            " 34  CS-403     571 non-null    float64\n",
            " 35  CS-421     571 non-null    float64\n",
            " 36  CS-406     571 non-null    float64\n",
            " 37  CS-414     571 non-null    float64\n",
            " 38  CS-419     571 non-null    float64\n",
            " 39  CS-423     571 non-null    float64\n",
            " 40  CS-412     571 non-null    float64\n",
            "dtypes: float64(41)\n",
            "memory usage: 183.0 KB\n"
          ]
        }
      ],
      "source": [
        "courses.info()"
      ]
    },
    {
      "cell_type": "code",
      "source": [
        "# Calculating grade points by multiplying grade points with credit hours\n",
        "four_cd=[0,5,6,8,9,10,13,18,19,20,21,25,30,31,32,38,39]\n",
        "three_cd=[2,3,4,7,12,14,15,16,22,23,26,28,33,34,37]\n",
        "two_cd=[1,11,24,27,29,35,36,40]\n",
        "onecd=[17]\n",
        "for i in four_cd:\n",
        "  courses.iloc[:, i]=courses.iloc[:, i]*4\n",
        "for i in three_cd:\n",
        "  courses.iloc[:, i]=courses.iloc[:, i]*3\n",
        "for i in two_cd:\n",
        "  courses.iloc[:, i]=courses.iloc[:, i]*2\n",
        "    \n",
        "courses.head()"
      ],
      "metadata": {
        "colab": {
          "base_uri": "https://localhost:8080/",
          "height": 300
        },
        "id": "j-RxQx9nJvT-",
        "outputId": "1490652f-c4c0-4526-fbc9-b52926a8762d"
      },
      "id": "j-RxQx9nJvT-",
      "execution_count": 156,
      "outputs": [
        {
          "output_type": "execute_result",
          "data": {
            "text/plain": [
              "   PH-121  HS-101  CY-105  HS-105/12  MT-111  CS-105  CS-106  EL-102  EE-119  \\\n",
              "0    10.8     2.8     5.1        6.0     5.1     5.6     4.0     5.1    10.8   \n",
              "1    16.0     2.0     4.2        3.0     8.1     8.0     4.0    12.0     5.6   \n",
              "2    16.0     6.0    12.0        8.1    10.2    16.0    10.8    10.2    14.8   \n",
              "3     4.0     4.8     4.2        3.0     3.0    14.8     5.6     5.1     4.0   \n",
              "4    14.8     7.4    11.1       10.2    12.0    16.0    14.8    10.2    16.0   \n",
              "\n",
              "   ME-107  ...  CS-306  CS-312  CS-317  CS-403  CS-421  CS-406  CS-414  \\\n",
              "0     6.8  ...     8.0     6.8     5.1     5.1     3.4     7.4    12.0   \n",
              "1     4.0  ...     4.0     5.6     3.0     6.0     2.0     7.4     8.1   \n",
              "2    14.8  ...    14.8    12.0     9.0    12.0     4.0     8.0    12.0   \n",
              "3     9.6  ...     6.8     5.6     6.0     4.2     3.4     5.4     9.0   \n",
              "4    14.8  ...    14.8    10.8    10.2    10.2     5.4     7.4    12.0   \n",
              "\n",
              "   CS-419  CS-423  CS-412  \n",
              "0     6.8    12.0     7.4  \n",
              "1     8.0     8.0     6.0  \n",
              "2    16.0    14.8     8.0  \n",
              "3     9.6     9.6     4.8  \n",
              "4    14.8    14.8     8.0  \n",
              "\n",
              "[5 rows x 41 columns]"
            ],
            "text/html": [
              "\n",
              "  <div id=\"df-9e36da2b-6cf8-47ee-b2b6-daa7d9b76c7e\">\n",
              "    <div class=\"colab-df-container\">\n",
              "      <div>\n",
              "<style scoped>\n",
              "    .dataframe tbody tr th:only-of-type {\n",
              "        vertical-align: middle;\n",
              "    }\n",
              "\n",
              "    .dataframe tbody tr th {\n",
              "        vertical-align: top;\n",
              "    }\n",
              "\n",
              "    .dataframe thead th {\n",
              "        text-align: right;\n",
              "    }\n",
              "</style>\n",
              "<table border=\"1\" class=\"dataframe\">\n",
              "  <thead>\n",
              "    <tr style=\"text-align: right;\">\n",
              "      <th></th>\n",
              "      <th>PH-121</th>\n",
              "      <th>HS-101</th>\n",
              "      <th>CY-105</th>\n",
              "      <th>HS-105/12</th>\n",
              "      <th>MT-111</th>\n",
              "      <th>CS-105</th>\n",
              "      <th>CS-106</th>\n",
              "      <th>EL-102</th>\n",
              "      <th>EE-119</th>\n",
              "      <th>ME-107</th>\n",
              "      <th>...</th>\n",
              "      <th>CS-306</th>\n",
              "      <th>CS-312</th>\n",
              "      <th>CS-317</th>\n",
              "      <th>CS-403</th>\n",
              "      <th>CS-421</th>\n",
              "      <th>CS-406</th>\n",
              "      <th>CS-414</th>\n",
              "      <th>CS-419</th>\n",
              "      <th>CS-423</th>\n",
              "      <th>CS-412</th>\n",
              "    </tr>\n",
              "  </thead>\n",
              "  <tbody>\n",
              "    <tr>\n",
              "      <th>0</th>\n",
              "      <td>10.8</td>\n",
              "      <td>2.8</td>\n",
              "      <td>5.1</td>\n",
              "      <td>6.0</td>\n",
              "      <td>5.1</td>\n",
              "      <td>5.6</td>\n",
              "      <td>4.0</td>\n",
              "      <td>5.1</td>\n",
              "      <td>10.8</td>\n",
              "      <td>6.8</td>\n",
              "      <td>...</td>\n",
              "      <td>8.0</td>\n",
              "      <td>6.8</td>\n",
              "      <td>5.1</td>\n",
              "      <td>5.1</td>\n",
              "      <td>3.4</td>\n",
              "      <td>7.4</td>\n",
              "      <td>12.0</td>\n",
              "      <td>6.8</td>\n",
              "      <td>12.0</td>\n",
              "      <td>7.4</td>\n",
              "    </tr>\n",
              "    <tr>\n",
              "      <th>1</th>\n",
              "      <td>16.0</td>\n",
              "      <td>2.0</td>\n",
              "      <td>4.2</td>\n",
              "      <td>3.0</td>\n",
              "      <td>8.1</td>\n",
              "      <td>8.0</td>\n",
              "      <td>4.0</td>\n",
              "      <td>12.0</td>\n",
              "      <td>5.6</td>\n",
              "      <td>4.0</td>\n",
              "      <td>...</td>\n",
              "      <td>4.0</td>\n",
              "      <td>5.6</td>\n",
              "      <td>3.0</td>\n",
              "      <td>6.0</td>\n",
              "      <td>2.0</td>\n",
              "      <td>7.4</td>\n",
              "      <td>8.1</td>\n",
              "      <td>8.0</td>\n",
              "      <td>8.0</td>\n",
              "      <td>6.0</td>\n",
              "    </tr>\n",
              "    <tr>\n",
              "      <th>2</th>\n",
              "      <td>16.0</td>\n",
              "      <td>6.0</td>\n",
              "      <td>12.0</td>\n",
              "      <td>8.1</td>\n",
              "      <td>10.2</td>\n",
              "      <td>16.0</td>\n",
              "      <td>10.8</td>\n",
              "      <td>10.2</td>\n",
              "      <td>14.8</td>\n",
              "      <td>14.8</td>\n",
              "      <td>...</td>\n",
              "      <td>14.8</td>\n",
              "      <td>12.0</td>\n",
              "      <td>9.0</td>\n",
              "      <td>12.0</td>\n",
              "      <td>4.0</td>\n",
              "      <td>8.0</td>\n",
              "      <td>12.0</td>\n",
              "      <td>16.0</td>\n",
              "      <td>14.8</td>\n",
              "      <td>8.0</td>\n",
              "    </tr>\n",
              "    <tr>\n",
              "      <th>3</th>\n",
              "      <td>4.0</td>\n",
              "      <td>4.8</td>\n",
              "      <td>4.2</td>\n",
              "      <td>3.0</td>\n",
              "      <td>3.0</td>\n",
              "      <td>14.8</td>\n",
              "      <td>5.6</td>\n",
              "      <td>5.1</td>\n",
              "      <td>4.0</td>\n",
              "      <td>9.6</td>\n",
              "      <td>...</td>\n",
              "      <td>6.8</td>\n",
              "      <td>5.6</td>\n",
              "      <td>6.0</td>\n",
              "      <td>4.2</td>\n",
              "      <td>3.4</td>\n",
              "      <td>5.4</td>\n",
              "      <td>9.0</td>\n",
              "      <td>9.6</td>\n",
              "      <td>9.6</td>\n",
              "      <td>4.8</td>\n",
              "    </tr>\n",
              "    <tr>\n",
              "      <th>4</th>\n",
              "      <td>14.8</td>\n",
              "      <td>7.4</td>\n",
              "      <td>11.1</td>\n",
              "      <td>10.2</td>\n",
              "      <td>12.0</td>\n",
              "      <td>16.0</td>\n",
              "      <td>14.8</td>\n",
              "      <td>10.2</td>\n",
              "      <td>16.0</td>\n",
              "      <td>14.8</td>\n",
              "      <td>...</td>\n",
              "      <td>14.8</td>\n",
              "      <td>10.8</td>\n",
              "      <td>10.2</td>\n",
              "      <td>10.2</td>\n",
              "      <td>5.4</td>\n",
              "      <td>7.4</td>\n",
              "      <td>12.0</td>\n",
              "      <td>14.8</td>\n",
              "      <td>14.8</td>\n",
              "      <td>8.0</td>\n",
              "    </tr>\n",
              "  </tbody>\n",
              "</table>\n",
              "<p>5 rows × 41 columns</p>\n",
              "</div>\n",
              "      <button class=\"colab-df-convert\" onclick=\"convertToInteractive('df-9e36da2b-6cf8-47ee-b2b6-daa7d9b76c7e')\"\n",
              "              title=\"Convert this dataframe to an interactive table.\"\n",
              "              style=\"display:none;\">\n",
              "        \n",
              "  <svg xmlns=\"http://www.w3.org/2000/svg\" height=\"24px\"viewBox=\"0 0 24 24\"\n",
              "       width=\"24px\">\n",
              "    <path d=\"M0 0h24v24H0V0z\" fill=\"none\"/>\n",
              "    <path d=\"M18.56 5.44l.94 2.06.94-2.06 2.06-.94-2.06-.94-.94-2.06-.94 2.06-2.06.94zm-11 1L8.5 8.5l.94-2.06 2.06-.94-2.06-.94L8.5 2.5l-.94 2.06-2.06.94zm10 10l.94 2.06.94-2.06 2.06-.94-2.06-.94-.94-2.06-.94 2.06-2.06.94z\"/><path d=\"M17.41 7.96l-1.37-1.37c-.4-.4-.92-.59-1.43-.59-.52 0-1.04.2-1.43.59L10.3 9.45l-7.72 7.72c-.78.78-.78 2.05 0 2.83L4 21.41c.39.39.9.59 1.41.59.51 0 1.02-.2 1.41-.59l7.78-7.78 2.81-2.81c.8-.78.8-2.07 0-2.86zM5.41 20L4 18.59l7.72-7.72 1.47 1.35L5.41 20z\"/>\n",
              "  </svg>\n",
              "      </button>\n",
              "      \n",
              "  <style>\n",
              "    .colab-df-container {\n",
              "      display:flex;\n",
              "      flex-wrap:wrap;\n",
              "      gap: 12px;\n",
              "    }\n",
              "\n",
              "    .colab-df-convert {\n",
              "      background-color: #E8F0FE;\n",
              "      border: none;\n",
              "      border-radius: 50%;\n",
              "      cursor: pointer;\n",
              "      display: none;\n",
              "      fill: #1967D2;\n",
              "      height: 32px;\n",
              "      padding: 0 0 0 0;\n",
              "      width: 32px;\n",
              "    }\n",
              "\n",
              "    .colab-df-convert:hover {\n",
              "      background-color: #E2EBFA;\n",
              "      box-shadow: 0px 1px 2px rgba(60, 64, 67, 0.3), 0px 1px 3px 1px rgba(60, 64, 67, 0.15);\n",
              "      fill: #174EA6;\n",
              "    }\n",
              "\n",
              "    [theme=dark] .colab-df-convert {\n",
              "      background-color: #3B4455;\n",
              "      fill: #D2E3FC;\n",
              "    }\n",
              "\n",
              "    [theme=dark] .colab-df-convert:hover {\n",
              "      background-color: #434B5C;\n",
              "      box-shadow: 0px 1px 3px 1px rgba(0, 0, 0, 0.15);\n",
              "      filter: drop-shadow(0px 1px 2px rgba(0, 0, 0, 0.3));\n",
              "      fill: #FFFFFF;\n",
              "    }\n",
              "  </style>\n",
              "\n",
              "      <script>\n",
              "        const buttonEl =\n",
              "          document.querySelector('#df-9e36da2b-6cf8-47ee-b2b6-daa7d9b76c7e button.colab-df-convert');\n",
              "        buttonEl.style.display =\n",
              "          google.colab.kernel.accessAllowed ? 'block' : 'none';\n",
              "\n",
              "        async function convertToInteractive(key) {\n",
              "          const element = document.querySelector('#df-9e36da2b-6cf8-47ee-b2b6-daa7d9b76c7e');\n",
              "          const dataTable =\n",
              "            await google.colab.kernel.invokeFunction('convertToInteractive',\n",
              "                                                     [key], {});\n",
              "          if (!dataTable) return;\n",
              "\n",
              "          const docLinkHtml = 'Like what you see? Visit the ' +\n",
              "            '<a target=\"_blank\" href=https://colab.research.google.com/notebooks/data_table.ipynb>data table notebook</a>'\n",
              "            + ' to learn more about interactive tables.';\n",
              "          element.innerHTML = '';\n",
              "          dataTable['output_type'] = 'display_data';\n",
              "          await google.colab.output.renderOutput(dataTable, element);\n",
              "          const docLink = document.createElement('div');\n",
              "          docLink.innerHTML = docLinkHtml;\n",
              "          element.appendChild(docLink);\n",
              "        }\n",
              "      </script>\n",
              "    </div>\n",
              "  </div>\n",
              "  "
            ]
          },
          "metadata": {},
          "execution_count": 156
        }
      ]
    },
    {
      "cell_type": "markdown",
      "id": "f0af4bf4",
      "metadata": {
        "id": "f0af4bf4"
      },
      "source": [
        "# **MODEL 1 (First Year GPs)**\n"
      ]
    },
    {
      "cell_type": "code",
      "execution_count": 157,
      "id": "b71209b0",
      "metadata": {
        "id": "b71209b0"
      },
      "outputs": [],
      "source": [
        "import matplotlib.pyplot as plt\n",
        "import seaborn as sns\n",
        "\n",
        "from sklearn.linear_model import LinearRegression\n",
        "from sklearn.model_selection import train_test_split"
      ]
    },
    {
      "cell_type": "code",
      "source": [
        "# Taking all first year courses in variable first_year\n",
        "first_year=courses.loc[:, \"PH-121\":\"CS-107\"]"
      ],
      "metadata": {
        "id": "nYrSSN0eWAQb"
      },
      "id": "nYrSSN0eWAQb",
      "execution_count": 158,
      "outputs": []
    },
    {
      "cell_type": "code",
      "execution_count": 159,
      "id": "64d6f232",
      "metadata": {
        "colab": {
          "base_uri": "https://localhost:8080/",
          "height": 206
        },
        "id": "64d6f232",
        "outputId": "74816293-2cdf-4330-f32f-321c270233b1"
      },
      "outputs": [
        {
          "output_type": "execute_result",
          "data": {
            "text/plain": [
              "   PH-121  HS-101  CY-105  HS-105/12  MT-111  CS-105  CS-106  EL-102  EE-119  \\\n",
              "0    10.8     2.8     5.1        6.0     5.1     5.6     4.0     5.1    10.8   \n",
              "1    16.0     2.0     4.2        3.0     8.1     8.0     4.0    12.0     5.6   \n",
              "2    16.0     6.0    12.0        8.1    10.2    16.0    10.8    10.2    14.8   \n",
              "3     4.0     4.8     4.2        3.0     3.0    14.8     5.6     5.1     4.0   \n",
              "4    14.8     7.4    11.1       10.2    12.0    16.0    14.8    10.2    16.0   \n",
              "\n",
              "   ME-107  CS-107  \n",
              "0     6.8     6.8  \n",
              "1     4.0    13.6  \n",
              "2    14.8    10.8  \n",
              "3     9.6     4.0  \n",
              "4    14.8     8.0  "
            ],
            "text/html": [
              "\n",
              "  <div id=\"df-dffeb81e-1a0b-432b-8240-d26d4d8adef5\">\n",
              "    <div class=\"colab-df-container\">\n",
              "      <div>\n",
              "<style scoped>\n",
              "    .dataframe tbody tr th:only-of-type {\n",
              "        vertical-align: middle;\n",
              "    }\n",
              "\n",
              "    .dataframe tbody tr th {\n",
              "        vertical-align: top;\n",
              "    }\n",
              "\n",
              "    .dataframe thead th {\n",
              "        text-align: right;\n",
              "    }\n",
              "</style>\n",
              "<table border=\"1\" class=\"dataframe\">\n",
              "  <thead>\n",
              "    <tr style=\"text-align: right;\">\n",
              "      <th></th>\n",
              "      <th>PH-121</th>\n",
              "      <th>HS-101</th>\n",
              "      <th>CY-105</th>\n",
              "      <th>HS-105/12</th>\n",
              "      <th>MT-111</th>\n",
              "      <th>CS-105</th>\n",
              "      <th>CS-106</th>\n",
              "      <th>EL-102</th>\n",
              "      <th>EE-119</th>\n",
              "      <th>ME-107</th>\n",
              "      <th>CS-107</th>\n",
              "    </tr>\n",
              "  </thead>\n",
              "  <tbody>\n",
              "    <tr>\n",
              "      <th>0</th>\n",
              "      <td>10.8</td>\n",
              "      <td>2.8</td>\n",
              "      <td>5.1</td>\n",
              "      <td>6.0</td>\n",
              "      <td>5.1</td>\n",
              "      <td>5.6</td>\n",
              "      <td>4.0</td>\n",
              "      <td>5.1</td>\n",
              "      <td>10.8</td>\n",
              "      <td>6.8</td>\n",
              "      <td>6.8</td>\n",
              "    </tr>\n",
              "    <tr>\n",
              "      <th>1</th>\n",
              "      <td>16.0</td>\n",
              "      <td>2.0</td>\n",
              "      <td>4.2</td>\n",
              "      <td>3.0</td>\n",
              "      <td>8.1</td>\n",
              "      <td>8.0</td>\n",
              "      <td>4.0</td>\n",
              "      <td>12.0</td>\n",
              "      <td>5.6</td>\n",
              "      <td>4.0</td>\n",
              "      <td>13.6</td>\n",
              "    </tr>\n",
              "    <tr>\n",
              "      <th>2</th>\n",
              "      <td>16.0</td>\n",
              "      <td>6.0</td>\n",
              "      <td>12.0</td>\n",
              "      <td>8.1</td>\n",
              "      <td>10.2</td>\n",
              "      <td>16.0</td>\n",
              "      <td>10.8</td>\n",
              "      <td>10.2</td>\n",
              "      <td>14.8</td>\n",
              "      <td>14.8</td>\n",
              "      <td>10.8</td>\n",
              "    </tr>\n",
              "    <tr>\n",
              "      <th>3</th>\n",
              "      <td>4.0</td>\n",
              "      <td>4.8</td>\n",
              "      <td>4.2</td>\n",
              "      <td>3.0</td>\n",
              "      <td>3.0</td>\n",
              "      <td>14.8</td>\n",
              "      <td>5.6</td>\n",
              "      <td>5.1</td>\n",
              "      <td>4.0</td>\n",
              "      <td>9.6</td>\n",
              "      <td>4.0</td>\n",
              "    </tr>\n",
              "    <tr>\n",
              "      <th>4</th>\n",
              "      <td>14.8</td>\n",
              "      <td>7.4</td>\n",
              "      <td>11.1</td>\n",
              "      <td>10.2</td>\n",
              "      <td>12.0</td>\n",
              "      <td>16.0</td>\n",
              "      <td>14.8</td>\n",
              "      <td>10.2</td>\n",
              "      <td>16.0</td>\n",
              "      <td>14.8</td>\n",
              "      <td>8.0</td>\n",
              "    </tr>\n",
              "  </tbody>\n",
              "</table>\n",
              "</div>\n",
              "      <button class=\"colab-df-convert\" onclick=\"convertToInteractive('df-dffeb81e-1a0b-432b-8240-d26d4d8adef5')\"\n",
              "              title=\"Convert this dataframe to an interactive table.\"\n",
              "              style=\"display:none;\">\n",
              "        \n",
              "  <svg xmlns=\"http://www.w3.org/2000/svg\" height=\"24px\"viewBox=\"0 0 24 24\"\n",
              "       width=\"24px\">\n",
              "    <path d=\"M0 0h24v24H0V0z\" fill=\"none\"/>\n",
              "    <path d=\"M18.56 5.44l.94 2.06.94-2.06 2.06-.94-2.06-.94-.94-2.06-.94 2.06-2.06.94zm-11 1L8.5 8.5l.94-2.06 2.06-.94-2.06-.94L8.5 2.5l-.94 2.06-2.06.94zm10 10l.94 2.06.94-2.06 2.06-.94-2.06-.94-.94-2.06-.94 2.06-2.06.94z\"/><path d=\"M17.41 7.96l-1.37-1.37c-.4-.4-.92-.59-1.43-.59-.52 0-1.04.2-1.43.59L10.3 9.45l-7.72 7.72c-.78.78-.78 2.05 0 2.83L4 21.41c.39.39.9.59 1.41.59.51 0 1.02-.2 1.41-.59l7.78-7.78 2.81-2.81c.8-.78.8-2.07 0-2.86zM5.41 20L4 18.59l7.72-7.72 1.47 1.35L5.41 20z\"/>\n",
              "  </svg>\n",
              "      </button>\n",
              "      \n",
              "  <style>\n",
              "    .colab-df-container {\n",
              "      display:flex;\n",
              "      flex-wrap:wrap;\n",
              "      gap: 12px;\n",
              "    }\n",
              "\n",
              "    .colab-df-convert {\n",
              "      background-color: #E8F0FE;\n",
              "      border: none;\n",
              "      border-radius: 50%;\n",
              "      cursor: pointer;\n",
              "      display: none;\n",
              "      fill: #1967D2;\n",
              "      height: 32px;\n",
              "      padding: 0 0 0 0;\n",
              "      width: 32px;\n",
              "    }\n",
              "\n",
              "    .colab-df-convert:hover {\n",
              "      background-color: #E2EBFA;\n",
              "      box-shadow: 0px 1px 2px rgba(60, 64, 67, 0.3), 0px 1px 3px 1px rgba(60, 64, 67, 0.15);\n",
              "      fill: #174EA6;\n",
              "    }\n",
              "\n",
              "    [theme=dark] .colab-df-convert {\n",
              "      background-color: #3B4455;\n",
              "      fill: #D2E3FC;\n",
              "    }\n",
              "\n",
              "    [theme=dark] .colab-df-convert:hover {\n",
              "      background-color: #434B5C;\n",
              "      box-shadow: 0px 1px 3px 1px rgba(0, 0, 0, 0.15);\n",
              "      filter: drop-shadow(0px 1px 2px rgba(0, 0, 0, 0.3));\n",
              "      fill: #FFFFFF;\n",
              "    }\n",
              "  </style>\n",
              "\n",
              "      <script>\n",
              "        const buttonEl =\n",
              "          document.querySelector('#df-dffeb81e-1a0b-432b-8240-d26d4d8adef5 button.colab-df-convert');\n",
              "        buttonEl.style.display =\n",
              "          google.colab.kernel.accessAllowed ? 'block' : 'none';\n",
              "\n",
              "        async function convertToInteractive(key) {\n",
              "          const element = document.querySelector('#df-dffeb81e-1a0b-432b-8240-d26d4d8adef5');\n",
              "          const dataTable =\n",
              "            await google.colab.kernel.invokeFunction('convertToInteractive',\n",
              "                                                     [key], {});\n",
              "          if (!dataTable) return;\n",
              "\n",
              "          const docLinkHtml = 'Like what you see? Visit the ' +\n",
              "            '<a target=\"_blank\" href=https://colab.research.google.com/notebooks/data_table.ipynb>data table notebook</a>'\n",
              "            + ' to learn more about interactive tables.';\n",
              "          element.innerHTML = '';\n",
              "          dataTable['output_type'] = 'display_data';\n",
              "          await google.colab.output.renderOutput(dataTable, element);\n",
              "          const docLink = document.createElement('div');\n",
              "          docLink.innerHTML = docLinkHtml;\n",
              "          element.appendChild(docLink);\n",
              "        }\n",
              "      </script>\n",
              "    </div>\n",
              "  </div>\n",
              "  "
            ]
          },
          "metadata": {},
          "execution_count": 159
        }
      ],
      "source": [
        "first_year.head()"
      ]
    },
    {
      "cell_type": "code",
      "execution_count": 160,
      "id": "f6f69820",
      "metadata": {
        "id": "f6f69820"
      },
      "outputs": [],
      "source": [
        "# Splitting training and testing data \n",
        "from sklearn.model_selection import train_test_split\n",
        "X_train, X_test, y_train, y_test = train_test_split(first_year,output,test_size=0.2)"
      ]
    },
    {
      "cell_type": "markdown",
      "source": [
        "### Linear Regression Model"
      ],
      "metadata": {
        "id": "THx06Eb4aBOE"
      },
      "id": "THx06Eb4aBOE"
    },
    {
      "cell_type": "code",
      "execution_count": 161,
      "id": "0e33055c",
      "metadata": {
        "id": "0e33055c"
      },
      "outputs": [],
      "source": [
        "model_lr=LinearRegression()"
      ]
    },
    {
      "cell_type": "code",
      "execution_count": 162,
      "id": "b6211728",
      "metadata": {
        "colab": {
          "base_uri": "https://localhost:8080/"
        },
        "id": "b6211728",
        "outputId": "d58ecfc7-5684-4fb4-ab9b-df27f1dab392"
      },
      "outputs": [
        {
          "output_type": "execute_result",
          "data": {
            "text/plain": [
              "LinearRegression()"
            ]
          },
          "metadata": {},
          "execution_count": 162
        }
      ],
      "source": [
        "# Applying model on training data\n",
        "model_lr.fit(X_train,y_train)"
      ]
    },
    {
      "cell_type": "code",
      "execution_count": 163,
      "id": "65bb2faa",
      "metadata": {
        "id": "65bb2faa",
        "colab": {
          "base_uri": "https://localhost:8080/"
        },
        "outputId": "05466929-d972-4256-ad9a-80f54946c902"
      },
      "outputs": [
        {
          "output_type": "execute_result",
          "data": {
            "text/plain": [
              "array([1.64463476, 2.87581659, 2.70666353, 2.83469116, 3.72980608,\n",
              "       3.45670639, 3.27363368, 3.41738283, 2.6788963 , 3.09604281,\n",
              "       1.85828552, 1.92526721, 2.09377471, 2.89703199, 2.53079851,\n",
              "       3.09504666, 2.88448777, 2.73961544, 1.91388923, 3.6773251 ,\n",
              "       2.44381849, 1.90170921, 2.77280197, 3.68373658, 2.4787109 ,\n",
              "       3.15768271, 2.97921002, 3.48391682, 3.22273846, 3.72489433,\n",
              "       3.48955871, 2.74489094, 2.99168532, 2.60592889, 2.83871295,\n",
              "       3.2677793 , 3.78975368, 3.75672039, 3.83042947, 3.60820088,\n",
              "       2.51550425, 1.8424761 , 3.63196275, 2.58342895, 2.44428073,\n",
              "       2.75476052, 3.24280549, 3.04519997, 3.64517993, 2.29709194,\n",
              "       3.56873079, 3.7483507 , 2.30632406, 3.50759136, 2.18068637,\n",
              "       2.92736532, 3.56848882, 2.88257833, 2.07160618, 3.00500263,\n",
              "       1.8387696 , 2.77477381, 1.79468616, 3.19688675, 2.51839796,\n",
              "       2.67012665, 3.62727511, 2.1316085 , 2.47782032, 2.41475229,\n",
              "       1.85815236, 2.63848212, 2.61782429, 2.0848505 , 3.24619415,\n",
              "       3.31337786, 3.43389513, 3.76013474, 1.53798606, 2.71237795,\n",
              "       3.37701511, 3.3970358 , 1.80294963, 3.20481181, 3.79307868,\n",
              "       2.67596748, 3.66043539, 2.19612665, 2.795467  , 2.37392513,\n",
              "       3.44826212, 3.66781512, 2.78342843, 3.25058644, 2.71559115,\n",
              "       3.10623132, 2.95824793, 2.78050724, 2.72239729, 2.71450838,\n",
              "       3.67776926, 2.65062709, 3.34527366, 2.65142294, 2.87841267,\n",
              "       2.41109937, 3.28770306, 2.75622201, 2.06173827, 2.04412399,\n",
              "       3.51638212, 2.88120835, 1.65904346, 3.48358065, 2.43952859])"
            ]
          },
          "metadata": {},
          "execution_count": 163
        }
      ],
      "source": [
        "# Predicting test data through model\n",
        "predictions_lr=model_lr.predict(X_test)\n",
        "predictions_lr"
      ]
    },
    {
      "cell_type": "markdown",
      "source": [
        "###Evaluating The Model"
      ],
      "metadata": {
        "id": "XVFCWX4IbtZZ"
      },
      "id": "XVFCWX4IbtZZ"
    },
    {
      "cell_type": "code",
      "source": [
        "# Calculating RMSE \n",
        "from sklearn.metrics import mean_squared_error\n",
        "mse=mean_squared_error(y_test,predictions_lr)\n",
        "rmse=np.sqrt(mse)\n",
        "rmse"
      ],
      "metadata": {
        "colab": {
          "base_uri": "https://localhost:8080/"
        },
        "id": "NDZMb7U3bzm9",
        "outputId": "10d640d8-0268-4e64-9bf5-ffdd7b17bef4"
      },
      "id": "NDZMb7U3bzm9",
      "execution_count": 164,
      "outputs": [
        {
          "output_type": "execute_result",
          "data": {
            "text/plain": [
              "0.23959651793224274"
            ]
          },
          "metadata": {},
          "execution_count": 164
        }
      ]
    },
    {
      "cell_type": "code",
      "source": [
        "# Test data is cross validated with CV value 10 which returns the array of scores\n",
        "from sklearn.model_selection import cross_val_score\n",
        "results=[]\n",
        "cross_value=cross_val_score(model_lr, X_test,y_test,cv=10)\n",
        "results.append(cross_value)\n",
        "cross_value"
      ],
      "metadata": {
        "colab": {
          "base_uri": "https://localhost:8080/"
        },
        "id": "rAhJjjv2dNT_",
        "outputId": "dfa1a54a-17a5-4492-a9cc-07a7cef4b3a4"
      },
      "id": "rAhJjjv2dNT_",
      "execution_count": 165,
      "outputs": [
        {
          "output_type": "execute_result",
          "data": {
            "text/plain": [
              "array([0.79604414, 0.8547546 , 0.82810244, 0.93790172, 0.87862148,\n",
              "       0.71760142, 0.88590354, 0.91587426, 0.76006024, 0.76013576])"
            ]
          },
          "metadata": {},
          "execution_count": 165
        }
      ]
    },
    {
      "cell_type": "code",
      "source": [
        "# Claculating accuracy\n",
        "model_lr.score(X_test,y_test)"
      ],
      "metadata": {
        "colab": {
          "base_uri": "https://localhost:8080/"
        },
        "id": "SqszSR3mvVyl",
        "outputId": "99e499d2-7dad-4a7c-d58c-39b5aac8457f"
      },
      "id": "SqszSR3mvVyl",
      "execution_count": 166,
      "outputs": [
        {
          "output_type": "execute_result",
          "data": {
            "text/plain": [
              "0.8665225754336151"
            ]
          },
          "metadata": {},
          "execution_count": 166
        }
      ]
    },
    {
      "cell_type": "markdown",
      "source": [
        "### Support Vector Machine"
      ],
      "metadata": {
        "id": "EhBevMFGDosZ"
      },
      "id": "EhBevMFGDosZ"
    },
    {
      "cell_type": "code",
      "source": [
        "# Importing support vector regression model\n",
        "from sklearn.svm import SVR \n",
        "model_svr=SVR()"
      ],
      "metadata": {
        "id": "mwMtfyZFDcML"
      },
      "execution_count": 167,
      "outputs": [],
      "id": "mwMtfyZFDcML"
    },
    {
      "cell_type": "code",
      "source": [
        "# Applying model on training data\n",
        "model_svr.fit(X_train,y_train)"
      ],
      "metadata": {
        "colab": {
          "base_uri": "https://localhost:8080/"
        },
        "outputId": "1da4c390-5599-4ad9-d46e-6a1f470cf632",
        "id": "SxNN97nWDcMN"
      },
      "execution_count": 168,
      "outputs": [
        {
          "output_type": "execute_result",
          "data": {
            "text/plain": [
              "SVR()"
            ]
          },
          "metadata": {},
          "execution_count": 168
        }
      ],
      "id": "SxNN97nWDcMN"
    },
    {
      "cell_type": "code",
      "source": [
        "# Prediction on test data \n",
        "predictions_svr=model_svr.predict(X_test)\n",
        "predictions_svr"
      ],
      "metadata": {
        "colab": {
          "base_uri": "https://localhost:8080/"
        },
        "outputId": "d6b012e0-85f1-4457-d7ce-9ac0902695b3",
        "id": "MlaYRPIvDcMO"
      },
      "execution_count": 169,
      "outputs": [
        {
          "output_type": "execute_result",
          "data": {
            "text/plain": [
              "array([1.62668184, 3.14274948, 2.58702204, 2.60888277, 3.75390712,\n",
              "       3.59754493, 3.40710211, 3.4840741 , 2.49533094, 3.0554066 ,\n",
              "       1.84659432, 1.73071995, 2.19342642, 2.71617506, 2.50150615,\n",
              "       3.02027686, 3.00748352, 2.63237216, 2.03194605, 3.79392667,\n",
              "       2.41756971, 1.7831867 , 2.70700538, 3.62161319, 2.53109033,\n",
              "       3.2445302 , 3.19732567, 3.47654979, 3.23873141, 3.72014865,\n",
              "       3.5471067 , 2.82963935, 2.94392831, 2.6911785 , 2.76053363,\n",
              "       3.28192536, 3.86298803, 3.8408007 , 3.86108719, 3.6945159 ,\n",
              "       2.40274798, 1.9210078 , 3.72655953, 2.52337706, 2.36721723,\n",
              "       2.80459019, 3.19728883, 3.02603885, 3.50285938, 2.16463324,\n",
              "       3.62886576, 3.80307502, 2.4049355 , 3.6452062 , 2.31244389,\n",
              "       2.84928776, 3.69747353, 2.80145993, 2.10519107, 3.05297961,\n",
              "       1.72302057, 3.01781959, 1.73888264, 3.24443115, 2.32856393,\n",
              "       2.68125668, 3.60141904, 2.11379667, 2.74584118, 2.4094262 ,\n",
              "       1.8602265 , 2.50809611, 2.51651778, 1.95969106, 3.14855829,\n",
              "       3.32809288, 3.47217667, 3.80049389, 1.58561238, 2.59325462,\n",
              "       3.42016232, 3.44770317, 1.83618813, 3.21098301, 3.83563768,\n",
              "       2.70693625, 3.71725393, 2.09807563, 2.77241387, 2.14916218,\n",
              "       3.41200754, 3.77037771, 2.66181577, 3.40710664, 2.54838081,\n",
              "       3.04558355, 2.86496393, 2.70043647, 2.79361772, 2.83911096,\n",
              "       3.64014787, 2.7683383 , 3.3786178 , 2.56416384, 2.72821665,\n",
              "       2.24898803, 3.15973047, 2.89280516, 2.02339363, 1.90011336,\n",
              "       3.48982732, 2.70502568, 1.72750686, 3.58208868, 2.40327169])"
            ]
          },
          "metadata": {},
          "execution_count": 169
        }
      ],
      "id": "MlaYRPIvDcMO"
    },
    {
      "cell_type": "code",
      "source": [
        "# Calculating RMSE\n",
        "from sklearn.metrics import mean_squared_error\n",
        "mse=mean_squared_error(y_test,predictions_svr)\n",
        "rmse=np.sqrt(mse)\n",
        "rmse"
      ],
      "metadata": {
        "colab": {
          "base_uri": "https://localhost:8080/"
        },
        "outputId": "541e69e1-9048-43a8-8ed0-41542972421d",
        "id": "Z3poDD-TDcMQ"
      },
      "execution_count": 170,
      "outputs": [
        {
          "output_type": "execute_result",
          "data": {
            "text/plain": [
              "0.237430147443318"
            ]
          },
          "metadata": {},
          "execution_count": 170
        }
      ],
      "id": "Z3poDD-TDcMQ"
    },
    {
      "cell_type": "code",
      "source": [
        "# Calculating Accuracy of SVR model\n",
        "model_svr.score(X_test,y_test)"
      ],
      "metadata": {
        "colab": {
          "base_uri": "https://localhost:8080/"
        },
        "outputId": "dc90c8a2-7d77-4930-c0af-592b85ee81ca",
        "id": "Y_hrkJAODcMS"
      },
      "execution_count": 171,
      "outputs": [
        {
          "output_type": "execute_result",
          "data": {
            "text/plain": [
              "0.8689254007631739"
            ]
          },
          "metadata": {},
          "execution_count": 171
        }
      ],
      "id": "Y_hrkJAODcMS"
    },
    {
      "cell_type": "code",
      "source": [
        "# Test data is cross validated with CV value 10 which returns the array of scores\n",
        "from sklearn.model_selection import cross_val_score\n",
        "cross_value=cross_val_score(model_svr, X_test,y_test,cv=10)\n",
        "results.append(cross_value)\n",
        "cross_value"
      ],
      "metadata": {
        "colab": {
          "base_uri": "https://localhost:8080/"
        },
        "outputId": "cc3d685d-429a-4528-ddf2-51b0ebb32ee2",
        "id": "I2Gb_96qDcMU"
      },
      "execution_count": 172,
      "outputs": [
        {
          "output_type": "execute_result",
          "data": {
            "text/plain": [
              "array([0.82708451, 0.84246689, 0.83687614, 0.95619739, 0.88885632,\n",
              "       0.86426264, 0.85073803, 0.94007512, 0.56090405, 0.84140471])"
            ]
          },
          "metadata": {},
          "execution_count": 172
        }
      ],
      "id": "I2Gb_96qDcMU"
    },
    {
      "cell_type": "markdown",
      "source": [
        "# **MODEL 2 (Two year GPs)**"
      ],
      "metadata": {
        "id": "o6ZIOCfViobS"
      },
      "id": "o6ZIOCfViobS"
    },
    {
      "cell_type": "code",
      "source": [
        "# Saving first year and second year courses in variable seccond_year\n",
        "second_year=courses.loc[:, \"PH-121\":\"CS-215\"]"
      ],
      "metadata": {
        "id": "noph3GdiwPjo"
      },
      "execution_count": 173,
      "outputs": [],
      "id": "noph3GdiwPjo"
    },
    {
      "cell_type": "code",
      "source": [
        "second_year.head()"
      ],
      "metadata": {
        "colab": {
          "base_uri": "https://localhost:8080/",
          "height": 300
        },
        "id": "b5WGiTePwbVj",
        "outputId": "4a206ce4-4eb1-4de9-83fa-16c3edad3a08"
      },
      "id": "b5WGiTePwbVj",
      "execution_count": 174,
      "outputs": [
        {
          "output_type": "execute_result",
          "data": {
            "text/plain": [
              "   PH-121  HS-101  CY-105  HS-105/12  MT-111  CS-105  CS-106  EL-102  EE-119  \\\n",
              "0    10.8     2.8     5.1        6.0     5.1     5.6     4.0     5.1    10.8   \n",
              "1    16.0     2.0     4.2        3.0     8.1     8.0     4.0    12.0     5.6   \n",
              "2    16.0     6.0    12.0        8.1    10.2    16.0    10.8    10.2    14.8   \n",
              "3     4.0     4.8     4.2        3.0     3.0    14.8     5.6     5.1     4.0   \n",
              "4    14.8     7.4    11.1       10.2    12.0    16.0    14.8    10.2    16.0   \n",
              "\n",
              "   ME-107  ...  MT-222  EE-222  MT-224  CS-210  CS-211  CS-203  CS-214  \\\n",
              "0     6.8  ...     3.0    14.8     8.1     7.2     4.2     1.4     4.0   \n",
              "1     4.0  ...     8.1     6.8     4.2     4.2     3.0     2.0     4.0   \n",
              "2    14.8  ...    12.0    16.0    12.0    12.0    12.0     4.0    14.8   \n",
              "3     9.6  ...     4.2    10.8     3.0     6.0    10.2     2.4     4.0   \n",
              "4    14.8  ...    12.0    14.8    11.1    11.1     8.1     4.0    14.8   \n",
              "\n",
              "   EE-217  CS-212  CS-215  \n",
              "0    16.0     4.0     6.8  \n",
              "1    10.8     8.0     4.0  \n",
              "2    16.0    14.8    16.0  \n",
              "3     5.6     4.0     4.0  \n",
              "4    16.0    14.8    14.8  \n",
              "\n",
              "[5 rows x 22 columns]"
            ],
            "text/html": [
              "\n",
              "  <div id=\"df-a1842c6e-f205-4c77-a61c-3f6b52ce3706\">\n",
              "    <div class=\"colab-df-container\">\n",
              "      <div>\n",
              "<style scoped>\n",
              "    .dataframe tbody tr th:only-of-type {\n",
              "        vertical-align: middle;\n",
              "    }\n",
              "\n",
              "    .dataframe tbody tr th {\n",
              "        vertical-align: top;\n",
              "    }\n",
              "\n",
              "    .dataframe thead th {\n",
              "        text-align: right;\n",
              "    }\n",
              "</style>\n",
              "<table border=\"1\" class=\"dataframe\">\n",
              "  <thead>\n",
              "    <tr style=\"text-align: right;\">\n",
              "      <th></th>\n",
              "      <th>PH-121</th>\n",
              "      <th>HS-101</th>\n",
              "      <th>CY-105</th>\n",
              "      <th>HS-105/12</th>\n",
              "      <th>MT-111</th>\n",
              "      <th>CS-105</th>\n",
              "      <th>CS-106</th>\n",
              "      <th>EL-102</th>\n",
              "      <th>EE-119</th>\n",
              "      <th>ME-107</th>\n",
              "      <th>...</th>\n",
              "      <th>MT-222</th>\n",
              "      <th>EE-222</th>\n",
              "      <th>MT-224</th>\n",
              "      <th>CS-210</th>\n",
              "      <th>CS-211</th>\n",
              "      <th>CS-203</th>\n",
              "      <th>CS-214</th>\n",
              "      <th>EE-217</th>\n",
              "      <th>CS-212</th>\n",
              "      <th>CS-215</th>\n",
              "    </tr>\n",
              "  </thead>\n",
              "  <tbody>\n",
              "    <tr>\n",
              "      <th>0</th>\n",
              "      <td>10.8</td>\n",
              "      <td>2.8</td>\n",
              "      <td>5.1</td>\n",
              "      <td>6.0</td>\n",
              "      <td>5.1</td>\n",
              "      <td>5.6</td>\n",
              "      <td>4.0</td>\n",
              "      <td>5.1</td>\n",
              "      <td>10.8</td>\n",
              "      <td>6.8</td>\n",
              "      <td>...</td>\n",
              "      <td>3.0</td>\n",
              "      <td>14.8</td>\n",
              "      <td>8.1</td>\n",
              "      <td>7.2</td>\n",
              "      <td>4.2</td>\n",
              "      <td>1.4</td>\n",
              "      <td>4.0</td>\n",
              "      <td>16.0</td>\n",
              "      <td>4.0</td>\n",
              "      <td>6.8</td>\n",
              "    </tr>\n",
              "    <tr>\n",
              "      <th>1</th>\n",
              "      <td>16.0</td>\n",
              "      <td>2.0</td>\n",
              "      <td>4.2</td>\n",
              "      <td>3.0</td>\n",
              "      <td>8.1</td>\n",
              "      <td>8.0</td>\n",
              "      <td>4.0</td>\n",
              "      <td>12.0</td>\n",
              "      <td>5.6</td>\n",
              "      <td>4.0</td>\n",
              "      <td>...</td>\n",
              "      <td>8.1</td>\n",
              "      <td>6.8</td>\n",
              "      <td>4.2</td>\n",
              "      <td>4.2</td>\n",
              "      <td>3.0</td>\n",
              "      <td>2.0</td>\n",
              "      <td>4.0</td>\n",
              "      <td>10.8</td>\n",
              "      <td>8.0</td>\n",
              "      <td>4.0</td>\n",
              "    </tr>\n",
              "    <tr>\n",
              "      <th>2</th>\n",
              "      <td>16.0</td>\n",
              "      <td>6.0</td>\n",
              "      <td>12.0</td>\n",
              "      <td>8.1</td>\n",
              "      <td>10.2</td>\n",
              "      <td>16.0</td>\n",
              "      <td>10.8</td>\n",
              "      <td>10.2</td>\n",
              "      <td>14.8</td>\n",
              "      <td>14.8</td>\n",
              "      <td>...</td>\n",
              "      <td>12.0</td>\n",
              "      <td>16.0</td>\n",
              "      <td>12.0</td>\n",
              "      <td>12.0</td>\n",
              "      <td>12.0</td>\n",
              "      <td>4.0</td>\n",
              "      <td>14.8</td>\n",
              "      <td>16.0</td>\n",
              "      <td>14.8</td>\n",
              "      <td>16.0</td>\n",
              "    </tr>\n",
              "    <tr>\n",
              "      <th>3</th>\n",
              "      <td>4.0</td>\n",
              "      <td>4.8</td>\n",
              "      <td>4.2</td>\n",
              "      <td>3.0</td>\n",
              "      <td>3.0</td>\n",
              "      <td>14.8</td>\n",
              "      <td>5.6</td>\n",
              "      <td>5.1</td>\n",
              "      <td>4.0</td>\n",
              "      <td>9.6</td>\n",
              "      <td>...</td>\n",
              "      <td>4.2</td>\n",
              "      <td>10.8</td>\n",
              "      <td>3.0</td>\n",
              "      <td>6.0</td>\n",
              "      <td>10.2</td>\n",
              "      <td>2.4</td>\n",
              "      <td>4.0</td>\n",
              "      <td>5.6</td>\n",
              "      <td>4.0</td>\n",
              "      <td>4.0</td>\n",
              "    </tr>\n",
              "    <tr>\n",
              "      <th>4</th>\n",
              "      <td>14.8</td>\n",
              "      <td>7.4</td>\n",
              "      <td>11.1</td>\n",
              "      <td>10.2</td>\n",
              "      <td>12.0</td>\n",
              "      <td>16.0</td>\n",
              "      <td>14.8</td>\n",
              "      <td>10.2</td>\n",
              "      <td>16.0</td>\n",
              "      <td>14.8</td>\n",
              "      <td>...</td>\n",
              "      <td>12.0</td>\n",
              "      <td>14.8</td>\n",
              "      <td>11.1</td>\n",
              "      <td>11.1</td>\n",
              "      <td>8.1</td>\n",
              "      <td>4.0</td>\n",
              "      <td>14.8</td>\n",
              "      <td>16.0</td>\n",
              "      <td>14.8</td>\n",
              "      <td>14.8</td>\n",
              "    </tr>\n",
              "  </tbody>\n",
              "</table>\n",
              "<p>5 rows × 22 columns</p>\n",
              "</div>\n",
              "      <button class=\"colab-df-convert\" onclick=\"convertToInteractive('df-a1842c6e-f205-4c77-a61c-3f6b52ce3706')\"\n",
              "              title=\"Convert this dataframe to an interactive table.\"\n",
              "              style=\"display:none;\">\n",
              "        \n",
              "  <svg xmlns=\"http://www.w3.org/2000/svg\" height=\"24px\"viewBox=\"0 0 24 24\"\n",
              "       width=\"24px\">\n",
              "    <path d=\"M0 0h24v24H0V0z\" fill=\"none\"/>\n",
              "    <path d=\"M18.56 5.44l.94 2.06.94-2.06 2.06-.94-2.06-.94-.94-2.06-.94 2.06-2.06.94zm-11 1L8.5 8.5l.94-2.06 2.06-.94-2.06-.94L8.5 2.5l-.94 2.06-2.06.94zm10 10l.94 2.06.94-2.06 2.06-.94-2.06-.94-.94-2.06-.94 2.06-2.06.94z\"/><path d=\"M17.41 7.96l-1.37-1.37c-.4-.4-.92-.59-1.43-.59-.52 0-1.04.2-1.43.59L10.3 9.45l-7.72 7.72c-.78.78-.78 2.05 0 2.83L4 21.41c.39.39.9.59 1.41.59.51 0 1.02-.2 1.41-.59l7.78-7.78 2.81-2.81c.8-.78.8-2.07 0-2.86zM5.41 20L4 18.59l7.72-7.72 1.47 1.35L5.41 20z\"/>\n",
              "  </svg>\n",
              "      </button>\n",
              "      \n",
              "  <style>\n",
              "    .colab-df-container {\n",
              "      display:flex;\n",
              "      flex-wrap:wrap;\n",
              "      gap: 12px;\n",
              "    }\n",
              "\n",
              "    .colab-df-convert {\n",
              "      background-color: #E8F0FE;\n",
              "      border: none;\n",
              "      border-radius: 50%;\n",
              "      cursor: pointer;\n",
              "      display: none;\n",
              "      fill: #1967D2;\n",
              "      height: 32px;\n",
              "      padding: 0 0 0 0;\n",
              "      width: 32px;\n",
              "    }\n",
              "\n",
              "    .colab-df-convert:hover {\n",
              "      background-color: #E2EBFA;\n",
              "      box-shadow: 0px 1px 2px rgba(60, 64, 67, 0.3), 0px 1px 3px 1px rgba(60, 64, 67, 0.15);\n",
              "      fill: #174EA6;\n",
              "    }\n",
              "\n",
              "    [theme=dark] .colab-df-convert {\n",
              "      background-color: #3B4455;\n",
              "      fill: #D2E3FC;\n",
              "    }\n",
              "\n",
              "    [theme=dark] .colab-df-convert:hover {\n",
              "      background-color: #434B5C;\n",
              "      box-shadow: 0px 1px 3px 1px rgba(0, 0, 0, 0.15);\n",
              "      filter: drop-shadow(0px 1px 2px rgba(0, 0, 0, 0.3));\n",
              "      fill: #FFFFFF;\n",
              "    }\n",
              "  </style>\n",
              "\n",
              "      <script>\n",
              "        const buttonEl =\n",
              "          document.querySelector('#df-a1842c6e-f205-4c77-a61c-3f6b52ce3706 button.colab-df-convert');\n",
              "        buttonEl.style.display =\n",
              "          google.colab.kernel.accessAllowed ? 'block' : 'none';\n",
              "\n",
              "        async function convertToInteractive(key) {\n",
              "          const element = document.querySelector('#df-a1842c6e-f205-4c77-a61c-3f6b52ce3706');\n",
              "          const dataTable =\n",
              "            await google.colab.kernel.invokeFunction('convertToInteractive',\n",
              "                                                     [key], {});\n",
              "          if (!dataTable) return;\n",
              "\n",
              "          const docLinkHtml = 'Like what you see? Visit the ' +\n",
              "            '<a target=\"_blank\" href=https://colab.research.google.com/notebooks/data_table.ipynb>data table notebook</a>'\n",
              "            + ' to learn more about interactive tables.';\n",
              "          element.innerHTML = '';\n",
              "          dataTable['output_type'] = 'display_data';\n",
              "          await google.colab.output.renderOutput(dataTable, element);\n",
              "          const docLink = document.createElement('div');\n",
              "          docLink.innerHTML = docLinkHtml;\n",
              "          element.appendChild(docLink);\n",
              "        }\n",
              "      </script>\n",
              "    </div>\n",
              "  </div>\n",
              "  "
            ]
          },
          "metadata": {},
          "execution_count": 174
        }
      ]
    },
    {
      "cell_type": "code",
      "execution_count": 175,
      "metadata": {
        "id": "sJkUjvGKxT3s"
      },
      "outputs": [],
      "source": [
        "# Splitting trainin and testing data\n",
        "from sklearn.model_selection import train_test_split\n",
        "X_train, X_test, y_train, y_test = train_test_split(second_year,output,test_size=0.2)"
      ],
      "id": "sJkUjvGKxT3s"
    },
    {
      "cell_type": "markdown",
      "source": [
        "### Linear Regression"
      ],
      "metadata": {
        "id": "1dWxw2DzTsj2"
      },
      "id": "1dWxw2DzTsj2"
    },
    {
      "cell_type": "code",
      "execution_count": 176,
      "metadata": {
        "id": "uaTN-K_sxjI1"
      },
      "outputs": [],
      "source": [
        "model_lr2=LinearRegression()"
      ],
      "id": "uaTN-K_sxjI1"
    },
    {
      "cell_type": "code",
      "execution_count": 177,
      "metadata": {
        "colab": {
          "base_uri": "https://localhost:8080/"
        },
        "outputId": "f2a90ed7-be9e-45e3-9a36-a264a09b6b1f",
        "id": "3l_K4aqJxjI6"
      },
      "outputs": [
        {
          "output_type": "execute_result",
          "data": {
            "text/plain": [
              "LinearRegression()"
            ]
          },
          "metadata": {},
          "execution_count": 177
        }
      ],
      "source": [
        "# Applying model on training data\n",
        "model_lr2.fit(X_train,y_train)"
      ],
      "id": "3l_K4aqJxjI6"
    },
    {
      "cell_type": "code",
      "execution_count": 178,
      "metadata": {
        "colab": {
          "base_uri": "https://localhost:8080/"
        },
        "outputId": "0a1ffb73-e8a9-448e-bdea-5c5441f03b18",
        "id": "ruk14idxxjI9"
      },
      "outputs": [
        {
          "output_type": "execute_result",
          "data": {
            "text/plain": [
              "array([2.94053604, 1.81597708, 2.29915908, 2.60999207, 3.54185362,\n",
              "       2.63908724, 3.51593574, 3.241258  , 3.49407298, 3.11804056,\n",
              "       2.55442449, 3.10310354, 3.29780809, 1.99811368, 3.65029973,\n",
              "       3.63552034, 3.01195646, 2.31731507, 2.54107453, 2.59304951,\n",
              "       2.97652603, 3.57914401, 3.20035932, 2.69815884, 2.15816189,\n",
              "       2.87066609, 2.96337796, 3.61501837, 3.08120763, 3.34521844,\n",
              "       3.3054334 , 2.88449817, 3.68542329, 2.21690329, 3.74120006,\n",
              "       2.90041779, 3.4175157 , 3.52006574, 2.65533777, 3.3951112 ,\n",
              "       1.88703156, 2.41693147, 3.57674473, 3.68799546, 2.58504809,\n",
              "       3.65614741, 0.99835165, 3.87365556, 3.14152231, 2.30467749,\n",
              "       3.38441957, 3.17798462, 1.45056979, 3.65446156, 3.83880526,\n",
              "       3.7616319 , 3.35628661, 0.8050115 , 3.81820321, 2.8341773 ,\n",
              "       3.48985287, 2.88698502, 3.53510951, 2.9942917 , 3.64852184,\n",
              "       2.88632786, 0.99043905, 2.16946698, 2.67393442, 2.99386672,\n",
              "       2.9026178 , 2.94739662, 3.66106459, 3.4842296 , 3.18101761,\n",
              "       2.73994799, 2.46335461, 2.02869869, 2.49175265, 3.42934038,\n",
              "       2.70960764, 1.93107824, 2.41194548, 2.65448938, 3.77436402,\n",
              "       3.22710014, 3.1451052 , 3.6231721 , 3.56488071, 3.41021379,\n",
              "       2.92556046, 2.54133615, 2.65712207, 2.94669458, 2.41642141,\n",
              "       3.07154658, 2.7827721 , 2.89513528, 3.38996135, 3.68429513,\n",
              "       3.07941911, 2.96476432, 2.41833624, 3.56929212, 3.45780978,\n",
              "       1.91727562, 3.66395013, 3.50192481, 3.03461726, 2.37975311,\n",
              "       3.44920271, 3.11663152, 2.7746804 , 3.15607287, 3.0931328 ])"
            ]
          },
          "metadata": {},
          "execution_count": 178
        }
      ],
      "source": [
        "# Predictions on test data\n",
        "predictions_lr2=model_lr2.predict(X_test)\n",
        "predictions_lr2"
      ],
      "id": "ruk14idxxjI9"
    },
    {
      "cell_type": "code",
      "source": [
        "# Calculating RMSE\n",
        "from sklearn.metrics import mean_squared_error\n",
        "mse=mean_squared_error(y_test,predictions_lr2)\n",
        "rmse=np.sqrt(mse)\n",
        "rmse"
      ],
      "metadata": {
        "colab": {
          "base_uri": "https://localhost:8080/"
        },
        "outputId": "de3f383a-99f5-451d-a8a3-f0e8ccc3c8ac",
        "id": "2CBud6g6xjI_"
      },
      "execution_count": 179,
      "outputs": [
        {
          "output_type": "execute_result",
          "data": {
            "text/plain": [
              "0.17660135226100745"
            ]
          },
          "metadata": {},
          "execution_count": 179
        }
      ],
      "id": "2CBud6g6xjI_"
    },
    {
      "cell_type": "code",
      "source": [
        "# Test data is cross validated with CV value 10 which returns the array of scores\n",
        "from sklearn.model_selection import cross_val_score\n",
        "cross_value=cross_val_score(model_lr2, X_test,y_test,cv=10)\n",
        "results.append(cross_value)\n",
        "cross_value"
      ],
      "metadata": {
        "colab": {
          "base_uri": "https://localhost:8080/"
        },
        "outputId": "f4953966-09ae-49c5-8d28-fac84e74750c",
        "id": "wyZm64mXxjJA"
      },
      "execution_count": 180,
      "outputs": [
        {
          "output_type": "execute_result",
          "data": {
            "text/plain": [
              "array([0.92465459, 0.8350078 , 0.96592461, 0.96979949, 0.62875054,\n",
              "       0.86697003, 0.84177536, 0.86278574, 0.79821965, 0.91055148])"
            ]
          },
          "metadata": {},
          "execution_count": 180
        }
      ],
      "id": "wyZm64mXxjJA"
    },
    {
      "cell_type": "code",
      "source": [
        "# Calculating Accuracy of the model\n",
        "model_lr2.score(X_test,y_test)"
      ],
      "metadata": {
        "colab": {
          "base_uri": "https://localhost:8080/"
        },
        "outputId": "599e4402-fad0-42d1-a5ec-b45a3f21608d",
        "id": "fNtj39qGxjJC"
      },
      "execution_count": 181,
      "outputs": [
        {
          "output_type": "execute_result",
          "data": {
            "text/plain": [
              "0.9137220502245559"
            ]
          },
          "metadata": {},
          "execution_count": 181
        }
      ],
      "id": "fNtj39qGxjJC"
    },
    {
      "cell_type": "markdown",
      "source": [
        "### Support Vector Machine"
      ],
      "metadata": {
        "id": "BZCinBVAyREw"
      },
      "id": "BZCinBVAyREw"
    },
    {
      "cell_type": "code",
      "source": [
        "from sklearn.svm import SVR \n",
        "model_svr2=SVR()"
      ],
      "metadata": {
        "id": "CoK0gGyFyREw"
      },
      "execution_count": 182,
      "outputs": [],
      "id": "CoK0gGyFyREw"
    },
    {
      "cell_type": "code",
      "source": [
        "# Applying model on training data\n",
        "model_svr2.fit(X_train,y_train)"
      ],
      "metadata": {
        "colab": {
          "base_uri": "https://localhost:8080/"
        },
        "outputId": "09283d43-01e9-452b-948d-aa705e596b1c",
        "id": "f3iK4f3JyREx"
      },
      "execution_count": 183,
      "outputs": [
        {
          "output_type": "execute_result",
          "data": {
            "text/plain": [
              "SVR()"
            ]
          },
          "metadata": {},
          "execution_count": 183
        }
      ],
      "id": "f3iK4f3JyREx"
    },
    {
      "cell_type": "code",
      "source": [
        "# Predictions on test data\n",
        "predictions_svr2 = model_svr2.predict(X_test)\n",
        "predictions_svr2\n"
      ],
      "metadata": {
        "colab": {
          "base_uri": "https://localhost:8080/"
        },
        "outputId": "4a8856ed-e45c-4ad0-f278-accf4da64468",
        "id": "lD3PZBLY_uNk"
      },
      "execution_count": 184,
      "outputs": [
        {
          "output_type": "execute_result",
          "data": {
            "text/plain": [
              "array([2.90005501, 1.90147519, 2.27572772, 2.57775303, 3.51247045,\n",
              "       2.70012625, 3.50799381, 3.28842115, 3.56220959, 3.26315212,\n",
              "       2.62325705, 3.02451551, 3.31565257, 1.82249022, 3.58837454,\n",
              "       3.56808456, 3.1767381 , 2.32046383, 2.37217371, 2.46926451,\n",
              "       2.96822929, 3.51661532, 3.03784273, 2.54825   , 2.05867718,\n",
              "       3.02819498, 2.88339647, 3.46704016, 3.0052459 , 3.30197908,\n",
              "       3.22687917, 2.88248494, 3.71956863, 2.41871631, 3.72358369,\n",
              "       2.84109475, 3.35913651, 3.22115912, 2.46134593, 3.37378268,\n",
              "       1.97217503, 2.47235182, 3.49446421, 3.67181605, 2.51223822,\n",
              "       3.57766236, 1.51085408, 3.89005479, 3.04571126, 2.28066258,\n",
              "       3.47839288, 3.22364754, 2.59950821, 3.6377754 , 3.82764439,\n",
              "       3.64410916, 3.40608298, 1.29257276, 3.85287619, 2.78417592,\n",
              "       3.48133963, 3.14464421, 3.46873989, 2.92306337, 3.71611469,\n",
              "       2.87072729, 1.53502967, 1.98509455, 2.77905014, 3.07850422,\n",
              "       2.95146675, 2.846678  , 3.53355608, 3.33961014, 3.17912166,\n",
              "       2.76051364, 2.53951829, 2.11448708, 2.49691677, 3.15706066,\n",
              "       2.69174373, 1.74501983, 2.50893394, 2.58369894, 3.81705386,\n",
              "       2.86809431, 3.04190709, 3.70626211, 3.49132097, 3.52861854,\n",
              "       2.83967264, 2.65171684, 2.74809511, 2.94583883, 2.34067369,\n",
              "       3.05382308, 2.71567287, 2.85947625, 3.31815352, 3.60941385,\n",
              "       2.92871932, 2.93583329, 2.49335499, 3.56135348, 3.46948438,\n",
              "       1.96755629, 3.62038918, 3.58926261, 3.14698297, 2.48831123,\n",
              "       3.35324596, 3.16067658, 2.62689201, 3.14463134, 3.15163141])"
            ]
          },
          "metadata": {},
          "execution_count": 184
        }
      ],
      "id": "lD3PZBLY_uNk"
    },
    {
      "cell_type": "code",
      "source": [
        "# Calculating RMSE\n",
        "from sklearn.metrics import mean_squared_error\n",
        "mse=mean_squared_error(y_test,predictions_svr2)\n",
        "rmse=np.sqrt(mse)\n",
        "rmse"
      ],
      "metadata": {
        "colab": {
          "base_uri": "https://localhost:8080/"
        },
        "outputId": "7f6b7904-fadb-4cd7-ba7f-e34856a8e426",
        "id": "O423iX58yREz"
      },
      "execution_count": 185,
      "outputs": [
        {
          "output_type": "execute_result",
          "data": {
            "text/plain": [
              "0.1444471376273194"
            ]
          },
          "metadata": {},
          "execution_count": 185
        }
      ],
      "id": "O423iX58yREz"
    },
    {
      "cell_type": "code",
      "source": [
        "# Calculating accuracy of the model\n",
        "model_svr2.score(X_test,y_test)"
      ],
      "metadata": {
        "colab": {
          "base_uri": "https://localhost:8080/"
        },
        "outputId": "e0995cf8-5014-4a40-ba45-080bd9c00bc4",
        "id": "__2SPwlqyRE1"
      },
      "execution_count": 186,
      "outputs": [
        {
          "output_type": "execute_result",
          "data": {
            "text/plain": [
              "0.9422795580762688"
            ]
          },
          "metadata": {},
          "execution_count": 186
        }
      ],
      "id": "__2SPwlqyRE1"
    },
    {
      "cell_type": "code",
      "source": [
        "# Test data is cross validated with CV value 10 which returns the array of scores\n",
        "from sklearn.model_selection import cross_val_score\n",
        "cross_value=cross_val_score(model_svr2, X_test,y_test,cv=10)\n",
        "results.append(cross_value)\n",
        "cross_value"
      ],
      "metadata": {
        "colab": {
          "base_uri": "https://localhost:8080/"
        },
        "outputId": "3d02dc5f-2f0e-4450-b2e6-b8c2b21e73c2",
        "id": "jfbliPFYyRE1"
      },
      "execution_count": 187,
      "outputs": [
        {
          "output_type": "execute_result",
          "data": {
            "text/plain": [
              "array([0.93483495, 0.92493946, 0.95355396, 0.91980033, 0.95588019,\n",
              "       0.91430618, 0.87653091, 0.91114351, 0.9056238 , 0.9412317 ])"
            ]
          },
          "metadata": {},
          "execution_count": 187
        }
      ],
      "id": "jfbliPFYyRE1"
    },
    {
      "cell_type": "markdown",
      "source": [
        "# **MODEL 3(Three Year GPs)**"
      ],
      "metadata": {
        "id": "YoqgRbQnK31G"
      },
      "id": "YoqgRbQnK31G"
    },
    {
      "cell_type": "code",
      "source": [
        "courses.head()"
      ],
      "metadata": {
        "colab": {
          "base_uri": "https://localhost:8080/",
          "height": 300
        },
        "id": "7Z7Mm8D1uyQL",
        "outputId": "ca064e80-ebbc-46af-ac43-f75ed358d506"
      },
      "id": "7Z7Mm8D1uyQL",
      "execution_count": 216,
      "outputs": [
        {
          "output_type": "execute_result",
          "data": {
            "text/plain": [
              "   PH-121  HS-101  CY-105  HS-105/12  MT-111  CS-105  CS-106  EL-102  EE-119  \\\n",
              "0    10.8     2.8     5.1        6.0     5.1     5.6     4.0     5.1    10.8   \n",
              "1    16.0     2.0     4.2        3.0     8.1     8.0     4.0    12.0     5.6   \n",
              "2    16.0     6.0    12.0        8.1    10.2    16.0    10.8    10.2    14.8   \n",
              "3     4.0     4.8     4.2        3.0     3.0    14.8     5.6     5.1     4.0   \n",
              "4    14.8     7.4    11.1       10.2    12.0    16.0    14.8    10.2    16.0   \n",
              "\n",
              "   ME-107  ...  CS-312  CS-317  MT-442  CS-403  CS-421  CS-406  CS-414  \\\n",
              "0     6.8  ...     6.8     5.1    10.2     5.1     3.4     7.4    12.0   \n",
              "1     4.0  ...     5.6     3.0     5.1     6.0     2.0     7.4     8.1   \n",
              "2    14.8  ...    12.0     9.0    12.0    12.0     4.0     8.0    12.0   \n",
              "3     9.6  ...     5.6     6.0     5.1     4.2     3.4     5.4     9.0   \n",
              "4    14.8  ...    10.8    10.2    11.1    10.2     5.4     7.4    12.0   \n",
              "\n",
              "   CS-419  CS-423  CS-412  \n",
              "0     6.8    12.0     7.4  \n",
              "1     8.0     8.0     6.0  \n",
              "2    16.0    14.8     8.0  \n",
              "3     9.6     9.6     4.8  \n",
              "4    14.8    14.8     8.0  \n",
              "\n",
              "[5 rows x 41 columns]"
            ],
            "text/html": [
              "\n",
              "  <div id=\"df-5f0d0320-0748-49ad-a457-873a1dab9a85\">\n",
              "    <div class=\"colab-df-container\">\n",
              "      <div>\n",
              "<style scoped>\n",
              "    .dataframe tbody tr th:only-of-type {\n",
              "        vertical-align: middle;\n",
              "    }\n",
              "\n",
              "    .dataframe tbody tr th {\n",
              "        vertical-align: top;\n",
              "    }\n",
              "\n",
              "    .dataframe thead th {\n",
              "        text-align: right;\n",
              "    }\n",
              "</style>\n",
              "<table border=\"1\" class=\"dataframe\">\n",
              "  <thead>\n",
              "    <tr style=\"text-align: right;\">\n",
              "      <th></th>\n",
              "      <th>PH-121</th>\n",
              "      <th>HS-101</th>\n",
              "      <th>CY-105</th>\n",
              "      <th>HS-105/12</th>\n",
              "      <th>MT-111</th>\n",
              "      <th>CS-105</th>\n",
              "      <th>CS-106</th>\n",
              "      <th>EL-102</th>\n",
              "      <th>EE-119</th>\n",
              "      <th>ME-107</th>\n",
              "      <th>...</th>\n",
              "      <th>CS-312</th>\n",
              "      <th>CS-317</th>\n",
              "      <th>MT-442</th>\n",
              "      <th>CS-403</th>\n",
              "      <th>CS-421</th>\n",
              "      <th>CS-406</th>\n",
              "      <th>CS-414</th>\n",
              "      <th>CS-419</th>\n",
              "      <th>CS-423</th>\n",
              "      <th>CS-412</th>\n",
              "    </tr>\n",
              "  </thead>\n",
              "  <tbody>\n",
              "    <tr>\n",
              "      <th>0</th>\n",
              "      <td>10.8</td>\n",
              "      <td>2.8</td>\n",
              "      <td>5.1</td>\n",
              "      <td>6.0</td>\n",
              "      <td>5.1</td>\n",
              "      <td>5.6</td>\n",
              "      <td>4.0</td>\n",
              "      <td>5.1</td>\n",
              "      <td>10.8</td>\n",
              "      <td>6.8</td>\n",
              "      <td>...</td>\n",
              "      <td>6.8</td>\n",
              "      <td>5.1</td>\n",
              "      <td>10.2</td>\n",
              "      <td>5.1</td>\n",
              "      <td>3.4</td>\n",
              "      <td>7.4</td>\n",
              "      <td>12.0</td>\n",
              "      <td>6.8</td>\n",
              "      <td>12.0</td>\n",
              "      <td>7.4</td>\n",
              "    </tr>\n",
              "    <tr>\n",
              "      <th>1</th>\n",
              "      <td>16.0</td>\n",
              "      <td>2.0</td>\n",
              "      <td>4.2</td>\n",
              "      <td>3.0</td>\n",
              "      <td>8.1</td>\n",
              "      <td>8.0</td>\n",
              "      <td>4.0</td>\n",
              "      <td>12.0</td>\n",
              "      <td>5.6</td>\n",
              "      <td>4.0</td>\n",
              "      <td>...</td>\n",
              "      <td>5.6</td>\n",
              "      <td>3.0</td>\n",
              "      <td>5.1</td>\n",
              "      <td>6.0</td>\n",
              "      <td>2.0</td>\n",
              "      <td>7.4</td>\n",
              "      <td>8.1</td>\n",
              "      <td>8.0</td>\n",
              "      <td>8.0</td>\n",
              "      <td>6.0</td>\n",
              "    </tr>\n",
              "    <tr>\n",
              "      <th>2</th>\n",
              "      <td>16.0</td>\n",
              "      <td>6.0</td>\n",
              "      <td>12.0</td>\n",
              "      <td>8.1</td>\n",
              "      <td>10.2</td>\n",
              "      <td>16.0</td>\n",
              "      <td>10.8</td>\n",
              "      <td>10.2</td>\n",
              "      <td>14.8</td>\n",
              "      <td>14.8</td>\n",
              "      <td>...</td>\n",
              "      <td>12.0</td>\n",
              "      <td>9.0</td>\n",
              "      <td>12.0</td>\n",
              "      <td>12.0</td>\n",
              "      <td>4.0</td>\n",
              "      <td>8.0</td>\n",
              "      <td>12.0</td>\n",
              "      <td>16.0</td>\n",
              "      <td>14.8</td>\n",
              "      <td>8.0</td>\n",
              "    </tr>\n",
              "    <tr>\n",
              "      <th>3</th>\n",
              "      <td>4.0</td>\n",
              "      <td>4.8</td>\n",
              "      <td>4.2</td>\n",
              "      <td>3.0</td>\n",
              "      <td>3.0</td>\n",
              "      <td>14.8</td>\n",
              "      <td>5.6</td>\n",
              "      <td>5.1</td>\n",
              "      <td>4.0</td>\n",
              "      <td>9.6</td>\n",
              "      <td>...</td>\n",
              "      <td>5.6</td>\n",
              "      <td>6.0</td>\n",
              "      <td>5.1</td>\n",
              "      <td>4.2</td>\n",
              "      <td>3.4</td>\n",
              "      <td>5.4</td>\n",
              "      <td>9.0</td>\n",
              "      <td>9.6</td>\n",
              "      <td>9.6</td>\n",
              "      <td>4.8</td>\n",
              "    </tr>\n",
              "    <tr>\n",
              "      <th>4</th>\n",
              "      <td>14.8</td>\n",
              "      <td>7.4</td>\n",
              "      <td>11.1</td>\n",
              "      <td>10.2</td>\n",
              "      <td>12.0</td>\n",
              "      <td>16.0</td>\n",
              "      <td>14.8</td>\n",
              "      <td>10.2</td>\n",
              "      <td>16.0</td>\n",
              "      <td>14.8</td>\n",
              "      <td>...</td>\n",
              "      <td>10.8</td>\n",
              "      <td>10.2</td>\n",
              "      <td>11.1</td>\n",
              "      <td>10.2</td>\n",
              "      <td>5.4</td>\n",
              "      <td>7.4</td>\n",
              "      <td>12.0</td>\n",
              "      <td>14.8</td>\n",
              "      <td>14.8</td>\n",
              "      <td>8.0</td>\n",
              "    </tr>\n",
              "  </tbody>\n",
              "</table>\n",
              "<p>5 rows × 41 columns</p>\n",
              "</div>\n",
              "      <button class=\"colab-df-convert\" onclick=\"convertToInteractive('df-5f0d0320-0748-49ad-a457-873a1dab9a85')\"\n",
              "              title=\"Convert this dataframe to an interactive table.\"\n",
              "              style=\"display:none;\">\n",
              "        \n",
              "  <svg xmlns=\"http://www.w3.org/2000/svg\" height=\"24px\"viewBox=\"0 0 24 24\"\n",
              "       width=\"24px\">\n",
              "    <path d=\"M0 0h24v24H0V0z\" fill=\"none\"/>\n",
              "    <path d=\"M18.56 5.44l.94 2.06.94-2.06 2.06-.94-2.06-.94-.94-2.06-.94 2.06-2.06.94zm-11 1L8.5 8.5l.94-2.06 2.06-.94-2.06-.94L8.5 2.5l-.94 2.06-2.06.94zm10 10l.94 2.06.94-2.06 2.06-.94-2.06-.94-.94-2.06-.94 2.06-2.06.94z\"/><path d=\"M17.41 7.96l-1.37-1.37c-.4-.4-.92-.59-1.43-.59-.52 0-1.04.2-1.43.59L10.3 9.45l-7.72 7.72c-.78.78-.78 2.05 0 2.83L4 21.41c.39.39.9.59 1.41.59.51 0 1.02-.2 1.41-.59l7.78-7.78 2.81-2.81c.8-.78.8-2.07 0-2.86zM5.41 20L4 18.59l7.72-7.72 1.47 1.35L5.41 20z\"/>\n",
              "  </svg>\n",
              "      </button>\n",
              "      \n",
              "  <style>\n",
              "    .colab-df-container {\n",
              "      display:flex;\n",
              "      flex-wrap:wrap;\n",
              "      gap: 12px;\n",
              "    }\n",
              "\n",
              "    .colab-df-convert {\n",
              "      background-color: #E8F0FE;\n",
              "      border: none;\n",
              "      border-radius: 50%;\n",
              "      cursor: pointer;\n",
              "      display: none;\n",
              "      fill: #1967D2;\n",
              "      height: 32px;\n",
              "      padding: 0 0 0 0;\n",
              "      width: 32px;\n",
              "    }\n",
              "\n",
              "    .colab-df-convert:hover {\n",
              "      background-color: #E2EBFA;\n",
              "      box-shadow: 0px 1px 2px rgba(60, 64, 67, 0.3), 0px 1px 3px 1px rgba(60, 64, 67, 0.15);\n",
              "      fill: #174EA6;\n",
              "    }\n",
              "\n",
              "    [theme=dark] .colab-df-convert {\n",
              "      background-color: #3B4455;\n",
              "      fill: #D2E3FC;\n",
              "    }\n",
              "\n",
              "    [theme=dark] .colab-df-convert:hover {\n",
              "      background-color: #434B5C;\n",
              "      box-shadow: 0px 1px 3px 1px rgba(0, 0, 0, 0.15);\n",
              "      filter: drop-shadow(0px 1px 2px rgba(0, 0, 0, 0.3));\n",
              "      fill: #FFFFFF;\n",
              "    }\n",
              "  </style>\n",
              "\n",
              "      <script>\n",
              "        const buttonEl =\n",
              "          document.querySelector('#df-5f0d0320-0748-49ad-a457-873a1dab9a85 button.colab-df-convert');\n",
              "        buttonEl.style.display =\n",
              "          google.colab.kernel.accessAllowed ? 'block' : 'none';\n",
              "\n",
              "        async function convertToInteractive(key) {\n",
              "          const element = document.querySelector('#df-5f0d0320-0748-49ad-a457-873a1dab9a85');\n",
              "          const dataTable =\n",
              "            await google.colab.kernel.invokeFunction('convertToInteractive',\n",
              "                                                     [key], {});\n",
              "          if (!dataTable) return;\n",
              "\n",
              "          const docLinkHtml = 'Like what you see? Visit the ' +\n",
              "            '<a target=\"_blank\" href=https://colab.research.google.com/notebooks/data_table.ipynb>data table notebook</a>'\n",
              "            + ' to learn more about interactive tables.';\n",
              "          element.innerHTML = '';\n",
              "          dataTable['output_type'] = 'display_data';\n",
              "          await google.colab.output.renderOutput(dataTable, element);\n",
              "          const docLink = document.createElement('div');\n",
              "          docLink.innerHTML = docLinkHtml;\n",
              "          element.appendChild(docLink);\n",
              "        }\n",
              "      </script>\n",
              "    </div>\n",
              "  </div>\n",
              "  "
            ]
          },
          "metadata": {},
          "execution_count": 216
        }
      ]
    },
    {
      "cell_type": "code",
      "source": [
        "column_to_move = courses.pop(\"MT-442\")\n",
        "courses.insert(33, \"MT-442\", column_to_move)"
      ],
      "metadata": {
        "id": "tXPACEz-saM3"
      },
      "id": "tXPACEz-saM3",
      "execution_count": 188,
      "outputs": []
    },
    {
      "cell_type": "code",
      "source": [
        "# Saving courses from first year to third year in variable Third_year\n",
        "Third_year=courses.loc[:, \"PH-121\":\"CS-317\"]"
      ],
      "metadata": {
        "id": "b33hqNA2K2H_"
      },
      "id": "b33hqNA2K2H_",
      "execution_count": 189,
      "outputs": []
    },
    {
      "cell_type": "code",
      "source": [
        "Third_year.head()"
      ],
      "metadata": {
        "colab": {
          "base_uri": "https://localhost:8080/",
          "height": 300
        },
        "id": "Xe77wXbMPSeN",
        "outputId": "7f1f9d7a-0289-4541-a546-efcab3db6e11"
      },
      "id": "Xe77wXbMPSeN",
      "execution_count": 190,
      "outputs": [
        {
          "output_type": "execute_result",
          "data": {
            "text/plain": [
              "   PH-121  HS-101  CY-105  HS-105/12  MT-111  CS-105  CS-106  EL-102  EE-119  \\\n",
              "0    10.8     2.8     5.1        6.0     5.1     5.6     4.0     5.1    10.8   \n",
              "1    16.0     2.0     4.2        3.0     8.1     8.0     4.0    12.0     5.6   \n",
              "2    16.0     6.0    12.0        8.1    10.2    16.0    10.8    10.2    14.8   \n",
              "3     4.0     4.8     4.2        3.0     3.0    14.8     5.6     5.1     4.0   \n",
              "4    14.8     7.4    11.1       10.2    12.0    16.0    14.8    10.2    16.0   \n",
              "\n",
              "   ME-107  ...  EF-303  HS-304  CS-301  CS-302  TC-383  EL-332  CS-318  \\\n",
              "0     6.8  ...     5.1     4.8    12.0     6.0     4.8     4.0     6.8   \n",
              "1     4.0  ...     3.0     3.4    14.8     4.2     3.4     4.0    14.8   \n",
              "2    14.8  ...     7.2     8.0    13.6    11.1     6.0     6.8    14.8   \n",
              "3     9.6  ...     3.0     5.4     4.0     8.1     2.8     2.8    13.6   \n",
              "4    14.8  ...     5.1     7.4    10.8    11.1     4.8     7.4    10.8   \n",
              "\n",
              "   CS-306  CS-312  CS-317  \n",
              "0     8.0     6.8     5.1  \n",
              "1     4.0     5.6     3.0  \n",
              "2    14.8    12.0     9.0  \n",
              "3     6.8     5.6     6.0  \n",
              "4    14.8    10.8    10.2  \n",
              "\n",
              "[5 rows x 33 columns]"
            ],
            "text/html": [
              "\n",
              "  <div id=\"df-8d2d0118-ab2c-4d61-b3a6-75d8f900d0a1\">\n",
              "    <div class=\"colab-df-container\">\n",
              "      <div>\n",
              "<style scoped>\n",
              "    .dataframe tbody tr th:only-of-type {\n",
              "        vertical-align: middle;\n",
              "    }\n",
              "\n",
              "    .dataframe tbody tr th {\n",
              "        vertical-align: top;\n",
              "    }\n",
              "\n",
              "    .dataframe thead th {\n",
              "        text-align: right;\n",
              "    }\n",
              "</style>\n",
              "<table border=\"1\" class=\"dataframe\">\n",
              "  <thead>\n",
              "    <tr style=\"text-align: right;\">\n",
              "      <th></th>\n",
              "      <th>PH-121</th>\n",
              "      <th>HS-101</th>\n",
              "      <th>CY-105</th>\n",
              "      <th>HS-105/12</th>\n",
              "      <th>MT-111</th>\n",
              "      <th>CS-105</th>\n",
              "      <th>CS-106</th>\n",
              "      <th>EL-102</th>\n",
              "      <th>EE-119</th>\n",
              "      <th>ME-107</th>\n",
              "      <th>...</th>\n",
              "      <th>EF-303</th>\n",
              "      <th>HS-304</th>\n",
              "      <th>CS-301</th>\n",
              "      <th>CS-302</th>\n",
              "      <th>TC-383</th>\n",
              "      <th>EL-332</th>\n",
              "      <th>CS-318</th>\n",
              "      <th>CS-306</th>\n",
              "      <th>CS-312</th>\n",
              "      <th>CS-317</th>\n",
              "    </tr>\n",
              "  </thead>\n",
              "  <tbody>\n",
              "    <tr>\n",
              "      <th>0</th>\n",
              "      <td>10.8</td>\n",
              "      <td>2.8</td>\n",
              "      <td>5.1</td>\n",
              "      <td>6.0</td>\n",
              "      <td>5.1</td>\n",
              "      <td>5.6</td>\n",
              "      <td>4.0</td>\n",
              "      <td>5.1</td>\n",
              "      <td>10.8</td>\n",
              "      <td>6.8</td>\n",
              "      <td>...</td>\n",
              "      <td>5.1</td>\n",
              "      <td>4.8</td>\n",
              "      <td>12.0</td>\n",
              "      <td>6.0</td>\n",
              "      <td>4.8</td>\n",
              "      <td>4.0</td>\n",
              "      <td>6.8</td>\n",
              "      <td>8.0</td>\n",
              "      <td>6.8</td>\n",
              "      <td>5.1</td>\n",
              "    </tr>\n",
              "    <tr>\n",
              "      <th>1</th>\n",
              "      <td>16.0</td>\n",
              "      <td>2.0</td>\n",
              "      <td>4.2</td>\n",
              "      <td>3.0</td>\n",
              "      <td>8.1</td>\n",
              "      <td>8.0</td>\n",
              "      <td>4.0</td>\n",
              "      <td>12.0</td>\n",
              "      <td>5.6</td>\n",
              "      <td>4.0</td>\n",
              "      <td>...</td>\n",
              "      <td>3.0</td>\n",
              "      <td>3.4</td>\n",
              "      <td>14.8</td>\n",
              "      <td>4.2</td>\n",
              "      <td>3.4</td>\n",
              "      <td>4.0</td>\n",
              "      <td>14.8</td>\n",
              "      <td>4.0</td>\n",
              "      <td>5.6</td>\n",
              "      <td>3.0</td>\n",
              "    </tr>\n",
              "    <tr>\n",
              "      <th>2</th>\n",
              "      <td>16.0</td>\n",
              "      <td>6.0</td>\n",
              "      <td>12.0</td>\n",
              "      <td>8.1</td>\n",
              "      <td>10.2</td>\n",
              "      <td>16.0</td>\n",
              "      <td>10.8</td>\n",
              "      <td>10.2</td>\n",
              "      <td>14.8</td>\n",
              "      <td>14.8</td>\n",
              "      <td>...</td>\n",
              "      <td>7.2</td>\n",
              "      <td>8.0</td>\n",
              "      <td>13.6</td>\n",
              "      <td>11.1</td>\n",
              "      <td>6.0</td>\n",
              "      <td>6.8</td>\n",
              "      <td>14.8</td>\n",
              "      <td>14.8</td>\n",
              "      <td>12.0</td>\n",
              "      <td>9.0</td>\n",
              "    </tr>\n",
              "    <tr>\n",
              "      <th>3</th>\n",
              "      <td>4.0</td>\n",
              "      <td>4.8</td>\n",
              "      <td>4.2</td>\n",
              "      <td>3.0</td>\n",
              "      <td>3.0</td>\n",
              "      <td>14.8</td>\n",
              "      <td>5.6</td>\n",
              "      <td>5.1</td>\n",
              "      <td>4.0</td>\n",
              "      <td>9.6</td>\n",
              "      <td>...</td>\n",
              "      <td>3.0</td>\n",
              "      <td>5.4</td>\n",
              "      <td>4.0</td>\n",
              "      <td>8.1</td>\n",
              "      <td>2.8</td>\n",
              "      <td>2.8</td>\n",
              "      <td>13.6</td>\n",
              "      <td>6.8</td>\n",
              "      <td>5.6</td>\n",
              "      <td>6.0</td>\n",
              "    </tr>\n",
              "    <tr>\n",
              "      <th>4</th>\n",
              "      <td>14.8</td>\n",
              "      <td>7.4</td>\n",
              "      <td>11.1</td>\n",
              "      <td>10.2</td>\n",
              "      <td>12.0</td>\n",
              "      <td>16.0</td>\n",
              "      <td>14.8</td>\n",
              "      <td>10.2</td>\n",
              "      <td>16.0</td>\n",
              "      <td>14.8</td>\n",
              "      <td>...</td>\n",
              "      <td>5.1</td>\n",
              "      <td>7.4</td>\n",
              "      <td>10.8</td>\n",
              "      <td>11.1</td>\n",
              "      <td>4.8</td>\n",
              "      <td>7.4</td>\n",
              "      <td>10.8</td>\n",
              "      <td>14.8</td>\n",
              "      <td>10.8</td>\n",
              "      <td>10.2</td>\n",
              "    </tr>\n",
              "  </tbody>\n",
              "</table>\n",
              "<p>5 rows × 33 columns</p>\n",
              "</div>\n",
              "      <button class=\"colab-df-convert\" onclick=\"convertToInteractive('df-8d2d0118-ab2c-4d61-b3a6-75d8f900d0a1')\"\n",
              "              title=\"Convert this dataframe to an interactive table.\"\n",
              "              style=\"display:none;\">\n",
              "        \n",
              "  <svg xmlns=\"http://www.w3.org/2000/svg\" height=\"24px\"viewBox=\"0 0 24 24\"\n",
              "       width=\"24px\">\n",
              "    <path d=\"M0 0h24v24H0V0z\" fill=\"none\"/>\n",
              "    <path d=\"M18.56 5.44l.94 2.06.94-2.06 2.06-.94-2.06-.94-.94-2.06-.94 2.06-2.06.94zm-11 1L8.5 8.5l.94-2.06 2.06-.94-2.06-.94L8.5 2.5l-.94 2.06-2.06.94zm10 10l.94 2.06.94-2.06 2.06-.94-2.06-.94-.94-2.06-.94 2.06-2.06.94z\"/><path d=\"M17.41 7.96l-1.37-1.37c-.4-.4-.92-.59-1.43-.59-.52 0-1.04.2-1.43.59L10.3 9.45l-7.72 7.72c-.78.78-.78 2.05 0 2.83L4 21.41c.39.39.9.59 1.41.59.51 0 1.02-.2 1.41-.59l7.78-7.78 2.81-2.81c.8-.78.8-2.07 0-2.86zM5.41 20L4 18.59l7.72-7.72 1.47 1.35L5.41 20z\"/>\n",
              "  </svg>\n",
              "      </button>\n",
              "      \n",
              "  <style>\n",
              "    .colab-df-container {\n",
              "      display:flex;\n",
              "      flex-wrap:wrap;\n",
              "      gap: 12px;\n",
              "    }\n",
              "\n",
              "    .colab-df-convert {\n",
              "      background-color: #E8F0FE;\n",
              "      border: none;\n",
              "      border-radius: 50%;\n",
              "      cursor: pointer;\n",
              "      display: none;\n",
              "      fill: #1967D2;\n",
              "      height: 32px;\n",
              "      padding: 0 0 0 0;\n",
              "      width: 32px;\n",
              "    }\n",
              "\n",
              "    .colab-df-convert:hover {\n",
              "      background-color: #E2EBFA;\n",
              "      box-shadow: 0px 1px 2px rgba(60, 64, 67, 0.3), 0px 1px 3px 1px rgba(60, 64, 67, 0.15);\n",
              "      fill: #174EA6;\n",
              "    }\n",
              "\n",
              "    [theme=dark] .colab-df-convert {\n",
              "      background-color: #3B4455;\n",
              "      fill: #D2E3FC;\n",
              "    }\n",
              "\n",
              "    [theme=dark] .colab-df-convert:hover {\n",
              "      background-color: #434B5C;\n",
              "      box-shadow: 0px 1px 3px 1px rgba(0, 0, 0, 0.15);\n",
              "      filter: drop-shadow(0px 1px 2px rgba(0, 0, 0, 0.3));\n",
              "      fill: #FFFFFF;\n",
              "    }\n",
              "  </style>\n",
              "\n",
              "      <script>\n",
              "        const buttonEl =\n",
              "          document.querySelector('#df-8d2d0118-ab2c-4d61-b3a6-75d8f900d0a1 button.colab-df-convert');\n",
              "        buttonEl.style.display =\n",
              "          google.colab.kernel.accessAllowed ? 'block' : 'none';\n",
              "\n",
              "        async function convertToInteractive(key) {\n",
              "          const element = document.querySelector('#df-8d2d0118-ab2c-4d61-b3a6-75d8f900d0a1');\n",
              "          const dataTable =\n",
              "            await google.colab.kernel.invokeFunction('convertToInteractive',\n",
              "                                                     [key], {});\n",
              "          if (!dataTable) return;\n",
              "\n",
              "          const docLinkHtml = 'Like what you see? Visit the ' +\n",
              "            '<a target=\"_blank\" href=https://colab.research.google.com/notebooks/data_table.ipynb>data table notebook</a>'\n",
              "            + ' to learn more about interactive tables.';\n",
              "          element.innerHTML = '';\n",
              "          dataTable['output_type'] = 'display_data';\n",
              "          await google.colab.output.renderOutput(dataTable, element);\n",
              "          const docLink = document.createElement('div');\n",
              "          docLink.innerHTML = docLinkHtml;\n",
              "          element.appendChild(docLink);\n",
              "        }\n",
              "      </script>\n",
              "    </div>\n",
              "  </div>\n",
              "  "
            ]
          },
          "metadata": {},
          "execution_count": 190
        }
      ]
    },
    {
      "cell_type": "code",
      "source": [
        "# Splitting training and testing data\n",
        "X_train, X_test, y_train, y_test = train_test_split(Third_year,output,test_size=0.2)"
      ],
      "metadata": {
        "id": "5YygFOALPebO"
      },
      "id": "5YygFOALPebO",
      "execution_count": 191,
      "outputs": []
    },
    {
      "cell_type": "markdown",
      "source": [
        "### Linear Regression"
      ],
      "metadata": {
        "id": "_88IS9mVS-5a"
      },
      "id": "_88IS9mVS-5a"
    },
    {
      "cell_type": "code",
      "source": [
        "model_lr3=LinearRegression()"
      ],
      "metadata": {
        "id": "Nzd6G3PSP42y"
      },
      "id": "Nzd6G3PSP42y",
      "execution_count": 192,
      "outputs": []
    },
    {
      "cell_type": "code",
      "source": [
        "# Applying model on training data\n",
        "model_lr3.fit(X_train,y_train)"
      ],
      "metadata": {
        "colab": {
          "base_uri": "https://localhost:8080/"
        },
        "id": "MlmYlq9VQAw3",
        "outputId": "255cdcc4-e3cd-4a43-8612-ae9319ea2359"
      },
      "id": "MlmYlq9VQAw3",
      "execution_count": 193,
      "outputs": [
        {
          "output_type": "execute_result",
          "data": {
            "text/plain": [
              "LinearRegression()"
            ]
          },
          "metadata": {},
          "execution_count": 193
        }
      ]
    },
    {
      "cell_type": "code",
      "source": [
        "# Predictions on test data\n",
        "predictions_lr3=model_lr3.predict(X_test)\n",
        "predictions_lr3"
      ],
      "metadata": {
        "colab": {
          "base_uri": "https://localhost:8080/"
        },
        "id": "rtXg-nq6QFrE",
        "outputId": "8492ae8d-853e-4fe1-8608-1e318dc18d09"
      },
      "id": "rtXg-nq6QFrE",
      "execution_count": 194,
      "outputs": [
        {
          "output_type": "execute_result",
          "data": {
            "text/plain": [
              "array([2.95302764, 3.07657607, 2.96169574, 3.66829019, 3.41796481,\n",
              "       3.0936881 , 2.79270613, 3.39844256, 2.63480799, 3.63340243,\n",
              "       2.94626803, 2.18381082, 2.67657331, 3.32673796, 1.58344047,\n",
              "       3.09927045, 2.90065178, 1.964498  , 3.65554908, 3.5421527 ,\n",
              "       0.70214002, 3.67520706, 2.66900497, 3.10716278, 3.34485273,\n",
              "       3.03253195, 3.28056494, 2.04564215, 3.35957783, 1.94542564,\n",
              "       2.88851774, 3.38165774, 2.83937257, 3.10485531, 2.76714113,\n",
              "       3.10255651, 3.28553684, 3.77707972, 2.94316558, 2.64813578,\n",
              "       3.51693465, 3.21416343, 3.0367634 , 3.48858328, 2.86814667,\n",
              "       2.99350952, 3.65442362, 3.7878293 , 1.84779994, 3.1708608 ,\n",
              "       3.64941748, 2.92363077, 3.79543898, 2.91878304, 3.91895732,\n",
              "       1.77791011, 2.71915927, 3.06933379, 3.53082128, 3.73226812,\n",
              "       0.78802713, 1.89705737, 2.62003789, 2.64373265, 3.25514124,\n",
              "       3.0589989 , 2.10211862, 2.29600786, 2.61744604, 3.05073308,\n",
              "       3.94464488, 2.5342842 , 3.41038683, 2.77179227, 3.59726932,\n",
              "       1.8102476 , 2.87879082, 2.78146442, 2.78867162, 2.09821999,\n",
              "       2.29148333, 2.91961029, 2.09751315, 1.80028006, 3.89506293,\n",
              "       3.73439316, 3.52093944, 2.86369421, 3.34551296, 2.48311749,\n",
              "       3.24690395, 2.68383815, 2.43372809, 1.23311856, 2.72922673,\n",
              "       2.75505749, 2.8068548 , 3.57766765, 3.08574249, 2.08830095,\n",
              "       2.71860317, 3.13807935, 0.90711297, 3.28318783, 3.85045947,\n",
              "       2.78402214, 3.26151735, 2.96173985, 3.05798346, 2.75311274,\n",
              "       2.6872362 , 2.78316062, 2.32211432, 3.78983504, 3.38282148])"
            ]
          },
          "metadata": {},
          "execution_count": 194
        }
      ]
    },
    {
      "cell_type": "code",
      "source": [
        "# Calculating RMSE\n",
        "mse=mean_squared_error(y_test,predictions_lr3)\n",
        "rmse=np.sqrt(mse)\n",
        "rmse"
      ],
      "metadata": {
        "colab": {
          "base_uri": "https://localhost:8080/"
        },
        "id": "ppq6OwEtQMiJ",
        "outputId": "8c02d922-6766-455d-e8ac-09f76e3f419c"
      },
      "id": "ppq6OwEtQMiJ",
      "execution_count": 195,
      "outputs": [
        {
          "output_type": "execute_result",
          "data": {
            "text/plain": [
              "0.1376384286187093"
            ]
          },
          "metadata": {},
          "execution_count": 195
        }
      ]
    },
    {
      "cell_type": "code",
      "source": [
        "# Test data is cross validated with CV value 10 which returns the array of scores\n",
        "cross_value=cross_val_score(model_lr3, X_test,y_test,cv=10)\n",
        "results.append(cross_value)\n",
        "cross_value"
      ],
      "metadata": {
        "colab": {
          "base_uri": "https://localhost:8080/"
        },
        "id": "gQZJrejeQaNm",
        "outputId": "f24e5ca8-4aaf-4296-f017-b850fb7be644"
      },
      "id": "gQZJrejeQaNm",
      "execution_count": 196,
      "outputs": [
        {
          "output_type": "execute_result",
          "data": {
            "text/plain": [
              "array([0.94934833, 0.92763983, 0.95851449, 0.91028338, 0.98645712,\n",
              "       0.94599168, 0.84031351, 0.96537785, 0.90547145, 0.94057057])"
            ]
          },
          "metadata": {},
          "execution_count": 196
        }
      ]
    },
    {
      "cell_type": "code",
      "source": [
        "# Calculating accuracy of the model\n",
        "model_lr3.score(X_test,y_test)"
      ],
      "metadata": {
        "colab": {
          "base_uri": "https://localhost:8080/"
        },
        "id": "rfRCARnKQkgM",
        "outputId": "7a688e02-ae19-495a-b2b5-d4c4cfdaf17a"
      },
      "id": "rfRCARnKQkgM",
      "execution_count": 197,
      "outputs": [
        {
          "output_type": "execute_result",
          "data": {
            "text/plain": [
              "0.9549267927219913"
            ]
          },
          "metadata": {},
          "execution_count": 197
        }
      ]
    },
    {
      "cell_type": "markdown",
      "source": [
        "### Support Vector Regression"
      ],
      "metadata": {
        "id": "nonB5DIUQ4sH"
      },
      "id": "nonB5DIUQ4sH"
    },
    {
      "cell_type": "code",
      "source": [
        "model_svr3=SVR()"
      ],
      "metadata": {
        "id": "QILcaKZHQzHf"
      },
      "id": "QILcaKZHQzHf",
      "execution_count": 198,
      "outputs": []
    },
    {
      "cell_type": "code",
      "source": [
        "# Applying model on training data\n",
        "model_svr3.fit(X_train,y_train)"
      ],
      "metadata": {
        "colab": {
          "base_uri": "https://localhost:8080/"
        },
        "id": "WKv1u8BqRFud",
        "outputId": "53dd4877-abe0-48b3-bed1-1ea7aeecc4c9"
      },
      "id": "WKv1u8BqRFud",
      "execution_count": 199,
      "outputs": [
        {
          "output_type": "execute_result",
          "data": {
            "text/plain": [
              "SVR()"
            ]
          },
          "metadata": {},
          "execution_count": 199
        }
      ]
    },
    {
      "cell_type": "code",
      "source": [
        "# Predictions on test data \n",
        "predictions_svr3 = model_svr3.predict(X_test)\n",
        "predictions_svr3\n"
      ],
      "metadata": {
        "colab": {
          "base_uri": "https://localhost:8080/"
        },
        "id": "9bAcElOoRKjW",
        "outputId": "88b98aea-f073-41f9-d086-d62d64b8c474"
      },
      "id": "9bAcElOoRKjW",
      "execution_count": 200,
      "outputs": [
        {
          "output_type": "execute_result",
          "data": {
            "text/plain": [
              "array([3.01997031, 2.87417849, 3.00724783, 3.72052996, 3.35625412,\n",
              "       3.0505971 , 2.68112678, 3.39165316, 2.66864234, 3.56851066,\n",
              "       2.98236482, 2.07954281, 2.63370332, 3.33074836, 2.04793389,\n",
              "       2.86892546, 2.86760983, 1.84589012, 3.65202498, 3.59031234,\n",
              "       1.37593401, 3.74045916, 2.62335381, 2.91876569, 3.43254088,\n",
              "       2.90187779, 3.19366593, 1.95104658, 3.38281368, 2.0554272 ,\n",
              "       2.79703131, 3.28625317, 2.9591102 , 2.9997539 , 2.72401036,\n",
              "       3.01986249, 3.29028963, 3.76553659, 2.86783464, 2.6783511 ,\n",
              "       3.66542449, 3.19858277, 3.15921808, 3.4779318 , 2.83193989,\n",
              "       2.84735961, 3.63236268, 3.7998765 , 1.73511133, 3.26644469,\n",
              "       3.68232573, 2.96720804, 3.83491476, 3.00546588, 3.86851333,\n",
              "       2.09888999, 2.66755222, 2.92567443, 3.57898484, 3.75424585,\n",
              "       1.44967332, 2.07257094, 2.61145506, 2.74859458, 3.37766456,\n",
              "       3.13389544, 2.06692651, 2.09441248, 2.57379724, 2.80327615,\n",
              "       3.8563149 , 2.39541799, 3.18532747, 2.49482029, 3.70982388,\n",
              "       1.86350685, 2.71465333, 2.84352137, 2.76024604, 2.25190118,\n",
              "       2.26995675, 2.76495147, 2.16406328, 1.7306132 , 3.83737088,\n",
              "       3.80718243, 3.6164639 , 2.71179329, 3.39546292, 2.60951033,\n",
              "       3.2190626 , 2.67842779, 2.5008206 , 1.61331789, 2.81391106,\n",
              "       2.38065684, 2.62892005, 3.60792875, 3.04375971, 2.05391725,\n",
              "       2.77250558, 3.09753521, 1.65796922, 3.09618131, 3.84468538,\n",
              "       2.66981288, 3.2599702 , 2.85993505, 2.91381045, 3.00253078,\n",
              "       2.55598766, 2.68192345, 2.35137144, 3.75097074, 3.54279245])"
            ]
          },
          "metadata": {},
          "execution_count": 200
        }
      ]
    },
    {
      "cell_type": "code",
      "source": [
        "# Calculating RMSE\n",
        "mse=mean_squared_error(y_test,predictions_svr3)\n",
        "rmse=np.sqrt(mse)\n",
        "rmse"
      ],
      "metadata": {
        "colab": {
          "base_uri": "https://localhost:8080/"
        },
        "id": "UWKYvD1PRQyo",
        "outputId": "e852db2d-0e9f-45c5-dd66-6866d6dcb68b"
      },
      "id": "UWKYvD1PRQyo",
      "execution_count": 201,
      "outputs": [
        {
          "output_type": "execute_result",
          "data": {
            "text/plain": [
              "0.10196105340854059"
            ]
          },
          "metadata": {},
          "execution_count": 201
        }
      ]
    },
    {
      "cell_type": "code",
      "source": [
        "# Calculating accuracy of the model\n",
        "model_svr3.score(X_test,y_test)"
      ],
      "metadata": {
        "colab": {
          "base_uri": "https://localhost:8080/"
        },
        "id": "8XcKk3ZjRUnF",
        "outputId": "239ce98e-44b6-4fff-815b-fa7d8a363c7b"
      },
      "id": "8XcKk3ZjRUnF",
      "execution_count": 202,
      "outputs": [
        {
          "output_type": "execute_result",
          "data": {
            "text/plain": [
              "0.9752652412838204"
            ]
          },
          "metadata": {},
          "execution_count": 202
        }
      ]
    },
    {
      "cell_type": "code",
      "source": [
        "# Test data is cross validated with CV value 10 which returns the array of scores\n",
        "cross_value=cross_val_score(model_svr3, X_test,y_test,cv=10)\n",
        "results.append(cross_value)\n",
        "cross_value"
      ],
      "metadata": {
        "colab": {
          "base_uri": "https://localhost:8080/"
        },
        "id": "ozpQ-QkURW6c",
        "outputId": "5ef1b23d-76eb-4752-d1a5-f0852693dcc5"
      },
      "id": "ozpQ-QkURW6c",
      "execution_count": 203,
      "outputs": [
        {
          "output_type": "execute_result",
          "data": {
            "text/plain": [
              "array([0.97325097, 0.98244946, 0.98106464, 0.94525264, 0.9801226 ,\n",
              "       0.97290671, 0.97304963, 0.97687717, 0.97194025, 0.97097543])"
            ]
          },
          "metadata": {},
          "execution_count": 203
        }
      ]
    },
    {
      "cell_type": "markdown",
      "source": [
        "# Graphical Comparison of Models"
      ],
      "metadata": {
        "id": "51GKbN1L2vnS"
      },
      "id": "51GKbN1L2vnS"
    },
    {
      "cell_type": "code",
      "source": [
        "# Making list of models \n",
        "models=[('LR1',model_lr),('LR2',model_lr2),('LR3',model_lr3),('SVR1',model_svr),('SVR2',model_svr2),('SVR3',model_svr3)]"
      ],
      "metadata": {
        "id": "ia_UEYef20wB"
      },
      "id": "ia_UEYef20wB",
      "execution_count": 204,
      "outputs": []
    },
    {
      "cell_type": "code",
      "source": [
        "models"
      ],
      "metadata": {
        "colab": {
          "base_uri": "https://localhost:8080/"
        },
        "id": "JpN8W_Xq3mhZ",
        "outputId": "ba20dfe7-15ff-47d0-d558-8d0b4bc444e6"
      },
      "id": "JpN8W_Xq3mhZ",
      "execution_count": 205,
      "outputs": [
        {
          "output_type": "execute_result",
          "data": {
            "text/plain": [
              "[('LR1', LinearRegression()),\n",
              " ('LR2', LinearRegression()),\n",
              " ('LR3', LinearRegression()),\n",
              " ('SVR1', SVR()),\n",
              " ('SVR2', SVR()),\n",
              " ('SVR3', SVR())]"
            ]
          },
          "metadata": {},
          "execution_count": 205
        }
      ]
    },
    {
      "cell_type": "code",
      "source": [
        "names = [] #Variable used to fetch names of the models in list of models\n",
        "for name, model in models:\n",
        "\tnames.append(name)\n",
        "\n",
        "# boxplot of algorithm comparison\n",
        "fig = plt.figure()\n",
        "fig.suptitle('Comparison between different Models')\n",
        "ax = fig.add_subplot(111) # a graph of 1x1\n",
        "plt.boxplot(results)\n",
        "ax.set_xticklabels(names)\n",
        "plt.show()"
      ],
      "metadata": {
        "colab": {
          "base_uri": "https://localhost:8080/",
          "height": 294
        },
        "id": "5dP46Fy73o7D",
        "outputId": "42f56dfb-4d71-43d4-9d82-888e8915c0cd"
      },
      "id": "5dP46Fy73o7D",
      "execution_count": 206,
      "outputs": [
        {
          "output_type": "display_data",
          "data": {
            "text/plain": [
              "<Figure size 432x288 with 1 Axes>"
            ],
            "image/png": "[encoded data removed]"
          },
          "metadata": {
            "needs_background": "light"
          }
        }
      ]
    },
    {
      "cell_type": "code",
      "source": [
        "! pip install gradio #Library used to create UI "
      ],
      "metadata": {
        "id": "IOsCK8BH6OPD",
        "colab": {
          "base_uri": "https://localhost:8080/"
        },
        "outputId": "66344cd0-c3b7-4a31-b18b-ae1e5116d468"
      },
      "id": "IOsCK8BH6OPD",
      "execution_count": 207,
      "outputs": [
        {
          "output_type": "stream",
          "name": "stdout",
          "text": [
            "Looking in indexes: https://pypi.org/simple, https://us-python.pkg.dev/colab-wheels/public/simple/\n",
            "Requirement already satisfied: gradio in /usr/local/lib/python3.7/dist-packages (3.1.1)\n",
            "Requirement already satisfied: python-multipart in /usr/local/lib/python3.7/dist-packages (from gradio) (0.0.5)\n",
            "Requirement already satisfied: fsspec in /usr/local/lib/python3.7/dist-packages (from gradio) (2022.5.0)\n",
            "Requirement already satisfied: pycryptodome in /usr/local/lib/python3.7/dist-packages (from gradio) (3.15.0)\n",
            "Requirement already satisfied: fastapi in /usr/local/lib/python3.7/dist-packages (from gradio) (0.79.0)\n",
            "Requirement already satisfied: analytics-python in /usr/local/lib/python3.7/dist-packages (from gradio) (1.4.0)\n",
            "Requirement already satisfied: numpy in /usr/local/lib/python3.7/dist-packages (from gradio) (1.21.6)\n",
            "Requirement already satisfied: httpx in /usr/local/lib/python3.7/dist-packages (from gradio) (0.23.0)\n",
            "Requirement already satisfied: pillow in /usr/local/lib/python3.7/dist-packages (from gradio) (7.1.2)\n",
            "Requirement already satisfied: requests in /usr/local/lib/python3.7/dist-packages (from gradio) (2.23.0)\n",
            "Requirement already satisfied: pydantic in /usr/local/lib/python3.7/dist-packages (from gradio) (1.8.2)\n",
            "Requirement already satisfied: pandas in /usr/local/lib/python3.7/dist-packages (from gradio) (1.3.5)\n",
            "Requirement already satisfied: matplotlib in /usr/local/lib/python3.7/dist-packages (from gradio) (3.2.2)\n",
            "Requirement already satisfied: aiohttp in /usr/local/lib/python3.7/dist-packages (from gradio) (3.8.1)\n",
            "Requirement already satisfied: Jinja2 in /usr/local/lib/python3.7/dist-packages (from gradio) (2.11.3)\n",
            "Requirement already satisfied: markdown-it-py[linkify,plugins] in /usr/local/lib/python3.7/dist-packages (from gradio) (2.1.0)\n",
            "Requirement already satisfied: h11<0.13,>=0.11 in /usr/local/lib/python3.7/dist-packages (from gradio) (0.12.0)\n",
            "Requirement already satisfied: paramiko in /usr/local/lib/python3.7/dist-packages (from gradio) (2.11.0)\n",
            "Requirement already satisfied: pydub in /usr/local/lib/python3.7/dist-packages (from gradio) (0.25.1)\n",
            "Requirement already satisfied: orjson in /usr/local/lib/python3.7/dist-packages (from gradio) (3.7.8)\n",
            "Requirement already satisfied: ffmpy in /usr/local/lib/python3.7/dist-packages (from gradio) (0.3.0)\n",
            "Requirement already satisfied: uvicorn in /usr/local/lib/python3.7/dist-packages (from gradio) (0.18.2)\n",
            "Requirement already satisfied: charset-normalizer<3.0,>=2.0 in /usr/local/lib/python3.7/dist-packages (from aiohttp->gradio) (2.1.0)\n",
            "Requirement already satisfied: frozenlist>=1.1.1 in /usr/local/lib/python3.7/dist-packages (from aiohttp->gradio) (1.3.0)\n",
            "Requirement already satisfied: typing-extensions>=3.7.4 in /usr/local/lib/python3.7/dist-packages (from aiohttp->gradio) (4.1.1)\n",
            "Requirement already satisfied: attrs>=17.3.0 in /usr/local/lib/python3.7/dist-packages (from aiohttp->gradio) (21.4.0)\n",
            "Requirement already satisfied: multidict<7.0,>=4.5 in /usr/local/lib/python3.7/dist-packages (from aiohttp->gradio) (6.0.2)\n",
            "Requirement already satisfied: aiosignal>=1.1.2 in /usr/local/lib/python3.7/dist-packages (from aiohttp->gradio) (1.2.0)\n",
            "Requirement already satisfied: asynctest==0.13.0 in /usr/local/lib/python3.7/dist-packages (from aiohttp->gradio) (0.13.0)\n",
            "Requirement already satisfied: async-timeout<5.0,>=4.0.0a3 in /usr/local/lib/python3.7/dist-packages (from aiohttp->gradio) (4.0.2)\n",
            "Requirement already satisfied: yarl<2.0,>=1.0 in /usr/local/lib/python3.7/dist-packages (from aiohttp->gradio) (1.7.2)\n",
            "Requirement already satisfied: idna>=2.0 in /usr/local/lib/python3.7/dist-packages (from yarl<2.0,>=1.0->aiohttp->gradio) (2.10)\n",
            "Requirement already satisfied: backoff==1.10.0 in /usr/local/lib/python3.7/dist-packages (from analytics-python->gradio) (1.10.0)\n",
            "Requirement already satisfied: monotonic>=1.5 in /usr/local/lib/python3.7/dist-packages (from analytics-python->gradio) (1.6)\n",
            "Requirement already satisfied: six>=1.5 in /usr/local/lib/python3.7/dist-packages (from analytics-python->gradio) (1.15.0)\n",
            "Requirement already satisfied: python-dateutil>2.1 in /usr/local/lib/python3.7/dist-packages (from analytics-python->gradio) (2.8.2)\n",
            "Requirement already satisfied: certifi>=2017.4.17 in /usr/local/lib/python3.7/dist-packages (from requests->gradio) (2022.6.15)\n",
            "Requirement already satisfied: urllib3!=1.25.0,!=1.25.1,<1.26,>=1.21.1 in /usr/local/lib/python3.7/dist-packages (from requests->gradio) (1.24.3)\n",
            "Requirement already satisfied: chardet<4,>=3.0.2 in /usr/local/lib/python3.7/dist-packages (from requests->gradio) (3.0.4)\n",
            "Requirement already satisfied: starlette==0.19.1 in /usr/local/lib/python3.7/dist-packages (from fastapi->gradio) (0.19.1)\n",
            "Requirement already satisfied: anyio<5,>=3.4.0 in /usr/local/lib/python3.7/dist-packages (from starlette==0.19.1->fastapi->gradio) (3.6.1)\n",
            "Requirement already satisfied: sniffio>=1.1 in /usr/local/lib/python3.7/dist-packages (from anyio<5,>=3.4.0->starlette==0.19.1->fastapi->gradio) (1.2.0)\n",
            "Requirement already satisfied: httpcore<0.16.0,>=0.15.0 in /usr/local/lib/python3.7/dist-packages (from httpx->gradio) (0.15.0)\n",
            "Requirement already satisfied: rfc3986[idna2008]<2,>=1.3 in /usr/local/lib/python3.7/dist-packages (from httpx->gradio) (1.5.0)\n",
            "Requirement already satisfied: MarkupSafe>=0.23 in /usr/local/lib/python3.7/dist-packages (from Jinja2->gradio) (2.0.1)\n",
            "Requirement already satisfied: mdurl~=0.1 in /usr/local/lib/python3.7/dist-packages (from markdown-it-py[linkify,plugins]->gradio) (0.1.1)\n",
            "Requirement already satisfied: mdit-py-plugins in /usr/local/lib/python3.7/dist-packages (from markdown-it-py[linkify,plugins]->gradio) (0.3.0)\n",
            "Requirement already satisfied: linkify-it-py~=1.0 in /usr/local/lib/python3.7/dist-packages (from markdown-it-py[linkify,plugins]->gradio) (1.0.3)\n",
            "Requirement already satisfied: uc-micro-py in /usr/local/lib/python3.7/dist-packages (from linkify-it-py~=1.0->markdown-it-py[linkify,plugins]->gradio) (1.0.1)\n",
            "Requirement already satisfied: pyparsing!=2.0.4,!=2.1.2,!=2.1.6,>=2.0.1 in /usr/local/lib/python3.7/dist-packages (from matplotlib->gradio) (3.0.9)\n",
            "Requirement already satisfied: cycler>=0.10 in /usr/local/lib/python3.7/dist-packages (from matplotlib->gradio) (0.11.0)\n",
            "Requirement already satisfied: kiwisolver>=1.0.1 in /usr/local/lib/python3.7/dist-packages (from matplotlib->gradio) (1.4.4)\n",
            "Requirement already satisfied: pytz>=2017.3 in /usr/local/lib/python3.7/dist-packages (from pandas->gradio) (2022.1)\n",
            "Requirement already satisfied: cryptography>=2.5 in /usr/local/lib/python3.7/dist-packages (from paramiko->gradio) (37.0.4)\n",
            "Requirement already satisfied: bcrypt>=3.1.3 in /usr/local/lib/python3.7/dist-packages (from paramiko->gradio) (3.2.2)\n",
            "Requirement already satisfied: pynacl>=1.0.1 in /usr/local/lib/python3.7/dist-packages (from paramiko->gradio) (1.5.0)\n",
            "Requirement already satisfied: cffi>=1.1 in /usr/local/lib/python3.7/dist-packages (from bcrypt>=3.1.3->paramiko->gradio) (1.15.1)\n",
            "Requirement already satisfied: pycparser in /usr/local/lib/python3.7/dist-packages (from cffi>=1.1->bcrypt>=3.1.3->paramiko->gradio) (2.21)\n",
            "Requirement already satisfied: click>=7.0 in /usr/local/lib/python3.7/dist-packages (from uvicorn->gradio) (7.1.2)\n"
          ]
        }
      ]
    },
    {
      "cell_type": "code",
      "source": [
        "import gradio as gr"
      ],
      "metadata": {
        "id": "IQTG_pNo42ZJ"
      },
      "id": "IQTG_pNo42ZJ",
      "execution_count": 208,
      "outputs": []
    },
    {
      "cell_type": "code",
      "source": [
        "def model_1(PH_121, HS_101, CY_105, HS_105_12, MT_111, CS_105, CS_106,\n",
        "       EL_102, EE_119, ME_107, CS_107):\n",
        "  #locals.values fetch the arguments passed in function, then converted to list then numpy array\n",
        "  attributes = np.array(list(locals().values())).reshape(1,-1) \n",
        "  #array converted to dataframe in order to pre-process data fetched from user\n",
        "  attributes = pd.DataFrame(attributes)\n",
        "  #Assigning GPs to grades\n",
        "  for i in range(0,11):\n",
        "    attributes[i]=attributes[i].map(AssignGPs)\n",
        "  #Multiplying GPs with credit hours\n",
        "  four_cd=[0,5,6,8,9,10]\n",
        "  three_cd=[2,3,4,7]\n",
        "  two_cd=[1]\n",
        "  for i in four_cd:\n",
        "    attributes.iloc[:, i]=attributes.iloc[:, i]*4\n",
        "  for i in three_cd:\n",
        "    attributes.iloc[:, i]=attributes.iloc[:, i]*3\n",
        "  for i in two_cd:\n",
        "    attributes.iloc[:, i]=attributes.iloc[:, i]*2\n",
        "  #data fetched from user are predicted using Support Vector Regressor model of First year\n",
        "  predictions_model1 =  model_svr.predict(attributes)\n",
        "  return predictions_model1"
      ],
      "metadata": {
        "id": "DYvh_ccqJAuk"
      },
      "execution_count": 209,
      "outputs": [],
      "id": "DYvh_ccqJAuk"
    },
    {
      "cell_type": "code",
      "source": [
        "def model_2(PH_121, HS_101, CY_105, HS_105_12, MT_111, CS_105, CS_106,\n",
        "       EL_102, EE_119, ME_107, CS_107, HS_205_20, MT_222, EE_222,\n",
        "       MT_224, CS_210, CS_211, CS_203, CS_214, EE_217, CS_212,\n",
        "       CS_215):\n",
        "  #locals.values fetch the arguments passed in function, then converted to list then numpy array\n",
        "  attributes = np.array(list(locals().values())).reshape(1,-1)\n",
        "  #array converted to dataframe in order to pre-process data fetched from user\n",
        "  attributes = pd.DataFrame(attributes)\n",
        "  #Assigning GPs to grades\n",
        "  for i in range(0,22):\n",
        "    attributes[i]=attributes[i].map(AssignGPs)\n",
        "  #Multiplying GPs with credit hours\n",
        "  four_cd=[0,5,6,8,9,10,13,18,19,20,21]\n",
        "  three_cd=[2,3,4,7,12,14,15,16]\n",
        "  two_cd=[1,11]\n",
        "  for i in four_cd:\n",
        "    attributes.iloc[:, i]=attributes.iloc[:, i]*4\n",
        "  for i in three_cd:\n",
        "    attributes.iloc[:, i]=attributes.iloc[:, i]*3\n",
        "  for i in two_cd:\n",
        "    attributes.iloc[:, i]=attributes.iloc[:, i]*2\n",
        "  #data fetched from user are predicted using Support Vector Regressor model of Second year\n",
        "  predictions_model2 =  model_svr2.predict(attributes)\n",
        "  return predictions_model2"
      ],
      "metadata": {
        "id": "nXVx4CKKAVri"
      },
      "execution_count": 210,
      "outputs": [],
      "id": "nXVx4CKKAVri"
    },
    {
      "cell_type": "code",
      "source": [
        "def model_3(PH_121, HS_101, CY_105, HS_105_12, MT_111, CS_105, CS_106,\n",
        "       EL_102, EE_119, ME_107, CS_107, HS_205_20, MT_222, EE_222,\n",
        "       MT_224, CS_210, CS_211, CS_203, CS_214, EE_217, CS_212,\n",
        "       CS_215, MT_331, EF_303, HS_304, CS_301, CS_302, TC_383, EL_332, CS_318, CS_306, CS_312, CS_317):\n",
        "  #locals.values fetch the arguments passed in function, then converted to list then numpy array\n",
        "  attributes = np.array(list(locals().values())).reshape(1,-1)\n",
        "  #array converted to dataframe in order to pre-process data fetched from user\n",
        "  attributes = pd.DataFrame(attributes)\n",
        "  #Assigning GPs to grades\n",
        "  for i in range(0,33):\n",
        "    attributes[i]=attributes[i].map(AssignGPs)\n",
        "  #Multiplying GPs with credit hours\n",
        "  four_cd=[0,5,6,8,9,10,13,18,19,20,21,24,28,29,32]\n",
        "  three_cd=[2,3,4,7,12,14,15,16,23,26,27,30]\n",
        "  two_cd=[1,11,22,25,31]\n",
        "  for i in four_cd:\n",
        "    attributes.iloc[:, i]=attributes.iloc[:, i]*4\n",
        "  for i in three_cd:\n",
        "    attributes.iloc[:, i]=attributes.iloc[:, i]*3\n",
        "  for i in two_cd:\n",
        "    attributes.iloc[:, i]=attributes.iloc[:, i]*2\n",
        "  #data fetched from user are predicted using Support Vector Regressor model of Third year\n",
        "  predictions_model3 =  model_svr3.predict(attributes)\n",
        "  return predictions_model3"
      ],
      "metadata": {
        "id": "aKliz0YnV9a1"
      },
      "id": "aKliz0YnV9a1",
      "execution_count": 214,
      "outputs": []
    },
    {
      "cell_type": "code",
      "source": [
        "demo = gr.Blocks()\n",
        "with demo:\n",
        "    gr.Markdown(\"Prediction of CGPA using Machine Learning Models.\")\n",
        "    with gr.Tabs():\n",
        "        with gr.TabItem(\"One Year Model\"):\n",
        "          #UI for First year\n",
        "          gr.Interface(fn=model_1,inputs=['text','text','text','text','text','text','text','text','text','text','text'],outputs='text')#11 courses data is taken from user in the form of grades\n",
        "          #UI for Second year\n",
        "        with gr.TabItem(\"Two Years Model\"):\n",
        "          gr.Interface(fn=model_2,inputs=['text','text','text','text','text','text','text','text','text','text','text','text','text','text','text','text','text','text','text','text','text','text'],outputs='text')#22 courses data is taken from user in the form of grades\n",
        "          #UI for Third year\n",
        "        with gr.TabItem(\"Three Years Model\"):\n",
        "          gr.Interface(fn=model_3,inputs=['text','text','text','text','text','text','text','text','text','text','text','text','text','text','text','text','text','text','text','text','text','text','text','text','text','text','text','text','text','text','text','text','text'],outputs='text')#33 courses data is taken from userin the form of grades\n",
        "\n",
        "demo.launch()"
      ],
      "metadata": {
        "colab": {
          "base_uri": "https://localhost:8080/",
          "height": 643
        },
        "outputId": "11613122-186b-4c76-84c4-c9ccacebe52c",
        "id": "6AMZL-pOpFCv"
      },
      "execution_count": 215,
      "outputs": [
        {
          "output_type": "stream",
          "name": "stdout",
          "text": [
            "Colab notebook detected. To show errors in colab notebook, set `debug=True` in `launch()`\n",
            "Running on public URL: https://47570.gradio.app\n",
            "\n",
            "This share link expires in 72 hours. For free permanent hosting, check out Spaces (https://huggingface.co/spaces)\n"
          ]
        },
        {
          "output_type": "display_data",
          "data": {
            "text/plain": [
              "<IPython.core.display.HTML object>"
            ],
            "text/html": [
              "<div><iframe src=\"https://47570.gradio.app\" width=\"900\" height=\"500\" allow=\"autoplay; camera; microphone;\" frameborder=\"0\" allowfullscreen></iframe></div>"
            ]
          },
          "metadata": {}
        },
        {
          "output_type": "execute_result",
          "data": {
            "text/plain": [
              "(<gradio.routes.App at 0x7f2202048150>,\n",
              " 'http://127.0.0.1:7865/',\n",
              " 'https://47570.gradio.app')"
            ]
          },
          "metadata": {},
          "execution_count": 215
        }
      ],
      "id": "6AMZL-pOpFCv"
    }
  ],
  "metadata": {
    "kernelspec": {
      "display_name": "Python 3 (ipykernel)",
      "language": "python",
      "name": "python3"
    },
    "language_info": {
      "codemirror_mode": {
        "name": "ipython",
        "version": 3
      },
      "file_extension": ".py",
      "mimetype": "text/x-python",
      "name": "python",
      "nbconvert_exporter": "python",
      "pygments_lexer": "ipython3",
      "version": "3.9.7"
    },
    "colab": {
      "name": "CS-19063_53.ipynb",
      "provenance": [],
      "collapsed_sections": []
    }
  },
  "nbformat": 4,
  "nbformat_minor": 5
}